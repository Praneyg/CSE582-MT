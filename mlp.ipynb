{
  "nbformat": 4,
  "nbformat_minor": 0,
  "metadata": {
    "colab": {
      "provenance": [],
      "machine_shape": "hm"
    },
    "kernelspec": {
      "name": "python3",
      "display_name": "Python 3"
    },
    "language_info": {
      "name": "python"
    },
    "gpuClass": "standard"
  },
  "cells": [
    {
      "cell_type": "code",
      "source": [
        "!pip install torchtext==0.4.0"
      ],
      "metadata": {
        "colab": {
          "base_uri": "https://localhost:8080/"
        },
        "id": "IgwOI6fYEw1X",
        "outputId": "4231062b-f8f2-4ec6-d822-8d0976328a76"
      },
      "execution_count": null,
      "outputs": [
        {
          "output_type": "stream",
          "name": "stdout",
          "text": [
            "Looking in indexes: https://pypi.org/simple, https://us-python.pkg.dev/colab-wheels/public/simple/\n",
            "Collecting torchtext==0.4.0\n",
            "  Downloading torchtext-0.4.0-py3-none-any.whl (53 kB)\n",
            "\u001b[2K     \u001b[90m━━━━━━━━━━━━━━━━━━━━━━━━━━━━━━━━━━━━━━━━\u001b[0m \u001b[32m53.1/53.1 KB\u001b[0m \u001b[31m1.6 MB/s\u001b[0m eta \u001b[36m0:00:00\u001b[0m\n",
            "\u001b[?25hRequirement already satisfied: tqdm in /usr/local/lib/python3.9/dist-packages (from torchtext==0.4.0) (4.65.0)\n",
            "Requirement already satisfied: requests in /usr/local/lib/python3.9/dist-packages (from torchtext==0.4.0) (2.25.1)\n",
            "Requirement already satisfied: six in /usr/local/lib/python3.9/dist-packages (from torchtext==0.4.0) (1.15.0)\n",
            "Requirement already satisfied: torch in /usr/local/lib/python3.9/dist-packages (from torchtext==0.4.0) (1.13.1+cu116)\n",
            "Requirement already satisfied: numpy in /usr/local/lib/python3.9/dist-packages (from torchtext==0.4.0) (1.22.4)\n",
            "Requirement already satisfied: idna<3,>=2.5 in /usr/local/lib/python3.9/dist-packages (from requests->torchtext==0.4.0) (2.10)\n",
            "Requirement already satisfied: chardet<5,>=3.0.2 in /usr/local/lib/python3.9/dist-packages (from requests->torchtext==0.4.0) (4.0.0)\n",
            "Requirement already satisfied: urllib3<1.27,>=1.21.1 in /usr/local/lib/python3.9/dist-packages (from requests->torchtext==0.4.0) (1.26.14)\n",
            "Requirement already satisfied: certifi>=2017.4.17 in /usr/local/lib/python3.9/dist-packages (from requests->torchtext==0.4.0) (2022.12.7)\n",
            "Requirement already satisfied: typing-extensions in /usr/local/lib/python3.9/dist-packages (from torch->torchtext==0.4.0) (4.5.0)\n",
            "Installing collected packages: torchtext\n",
            "  Attempting uninstall: torchtext\n",
            "    Found existing installation: torchtext 0.14.1\n",
            "    Uninstalling torchtext-0.14.1:\n",
            "      Successfully uninstalled torchtext-0.14.1\n",
            "Successfully installed torchtext-0.4.0\n"
          ]
        }
      ]
    },
    {
      "cell_type": "code",
      "source": [
        "import torchtext.vocab as vocab\n",
        "\n",
        "# glove = vocab.GloVe(name='840B', dim=300)"
      ],
      "metadata": {
        "id": "KYu7RScLF6-I"
      },
      "execution_count": null,
      "outputs": []
    },
    {
      "cell_type": "code",
      "source": [
        "from google.colab import drive\n",
        "drive.mount('/content/drive')"
      ],
      "metadata": {
        "colab": {
          "base_uri": "https://localhost:8080/"
        },
        "id": "WcyQhSt7hwYs",
        "outputId": "4c60e3ba-ce1a-424f-98c0-96cda0438ebd"
      },
      "execution_count": null,
      "outputs": [
        {
          "output_type": "stream",
          "name": "stdout",
          "text": [
            "Mounted at /content/drive\n"
          ]
        }
      ]
    },
    {
      "cell_type": "code",
      "source": [
        "glove = vocab.GloVe(cache=\"drive/MyDrive/midproject582/glove.840B.300d.zip\")"
      ],
      "metadata": {
        "id": "IlcytxmVgo8m"
      },
      "execution_count": null,
      "outputs": []
    },
    {
      "cell_type": "code",
      "source": [
        "glove.vectors[glove.stoi[\"PAD\"]]"
      ],
      "metadata": {
        "id": "j3M_g3Re-11c"
      },
      "execution_count": null,
      "outputs": []
    },
    {
      "cell_type": "code",
      "source": [
        "data_path=\"train.txt\"\n",
        "with open(data_path, 'r') as f:\n",
        "    data = f.read().strip().split('\\n\\n')\n",
        "\n",
        "sentences = []\n",
        "for sentence in data:\n",
        "    tokens = sentence.strip().split('\\n')\n",
        "    words = [token.split()[0] for token in tokens]\n",
        "    pos_tags = [token.split()[1] for token in tokens]\n",
        "    sentences.append((words, pos_tags))"
      ],
      "metadata": {
        "id": "BsaHULwn_5wx"
      },
      "execution_count": null,
      "outputs": []
    },
    {
      "cell_type": "code",
      "source": [
        "import numpy as np\n",
        "import torch"
      ],
      "metadata": {
        "id": "TMyljS3XGdgV"
      },
      "execution_count": null,
      "outputs": []
    },
    {
      "cell_type": "code",
      "source": [
        "\n",
        "# Define the window size\n",
        "window_size = 10\n",
        "\n",
        "# Define lists to store the input features and corresponding POS tags\n",
        "\n",
        "def get_embedding(word):\n",
        "    if word in glove.stoi:\n",
        "        return glove.vectors[glove.stoi[word]]\n",
        "    else:\n",
        "        return torch.randn(glove.dim)\n",
        "\n",
        "def get_feature_and_pos(sentences):\n",
        "    input_features = []\n",
        "    pos_tags = []\n",
        "    # Iterate over the dataset\n",
        "    for sentence in sentences:\n",
        "\n",
        "        # Get the list of tokens and POS tags for the sentence\n",
        "        tokens = sentence[0]\n",
        "        tags = sentence[1]\n",
        "\n",
        "        # Iterate over the tokens in the sentence\n",
        "        for i in range(len(tokens)):\n",
        "\n",
        "            # Get the embeddings for the target word and its neighbors\n",
        "            target_word_emb = get_embedding(tokens[i])\n",
        "            neighbor_word_embs = []\n",
        "\n",
        "            #for j in range(max(0, i-window_size), min(len(tokens), i+window_size+1)):\n",
        "            for j in range(i-window_size, i+window_size+1):\n",
        "                if j<0:\n",
        "                    neighbor_word_emb = get_embedding(\"<START>\")\n",
        "                    neighbor_word_embs.append(neighbor_word_emb)\n",
        "                elif j>=len(tokens):\n",
        "                    neighbor_word_emb = get_embedding(\"<END>\")\n",
        "                    neighbor_word_embs.append(neighbor_word_emb)\n",
        "                elif j != i:\n",
        "                    neighbor_word_emb = get_embedding(tokens[j])\n",
        "                    neighbor_word_embs.append(neighbor_word_emb)\n",
        "\n",
        "            # Concatenate the embeddings into a single feature vector\n",
        "            # print(tokens)\n",
        "            feature_vector = np.concatenate((target_word_emb.numpy(), np.concatenate(neighbor_word_embs, axis=0)))\n",
        "\n",
        "            # Add the feature vector and corresponding POS tag to the lists\n",
        "            input_features.append(feature_vector)\n",
        "            pos_tags.append(tags[i])\n",
        "\n",
        "    return input_features, pos_tags\n",
        "\n",
        "\n",
        "# pos_tags = torch.tensor(pos_tags, dtype=torch.float32)\n"
      ],
      "metadata": {
        "id": "IcsQbZHB__1Y"
      },
      "execution_count": null,
      "outputs": []
    },
    {
      "cell_type": "code",
      "source": [
        "input_features, pos_tags = get_feature_and_pos(sentences)\n",
        "\n",
        "# Convert the lists to numpy arrays\n",
        "input_features = torch.tensor(np.array(input_features), dtype=torch.float32)"
      ],
      "metadata": {
        "id": "WhqHobTZNJKX"
      },
      "execution_count": null,
      "outputs": []
    },
    {
      "cell_type": "code",
      "source": [
        "# pos_vocab = np.unique(pos_tags)\n",
        "\n",
        "pos_to_idx = {pos: i for i, pos in enumerate(pos_vocab)}"
      ],
      "metadata": {
        "id": "RXilMEZ_LAo2"
      },
      "execution_count": null,
      "outputs": []
    },
    {
      "cell_type": "code",
      "source": [
        "pos_vocab = np.array(['#', '$', \"''\", '(', ')', ',', '.', ':', 'CC', 'CD', 'DT', 'EX',\n",
        "       'FW', 'IN', 'JJ', 'JJR', 'JJS', 'MD', 'NN', 'NNP', 'NNPS', 'NNS',\n",
        "       'PDT', 'POS', 'PRP', 'PRP$', 'RB', 'RBR', 'RBS', 'RP', 'SYM', 'TO',\n",
        "       'UH', 'VB', 'VBD', 'VBG', 'VBN', 'VBP', 'VBZ', 'WDT', 'WP', 'WP$',\n",
        "       'WRB', '``'], dtype='<U4')"
      ],
      "metadata": {
        "id": "jyGxBvgrLNx4"
      },
      "execution_count": null,
      "outputs": []
    },
    {
      "cell_type": "code",
      "source": [
        "from torch.utils.data import Dataset\n",
        "\n",
        "\n",
        "device = torch.device('cuda' if torch.cuda.is_available() else 'cpu')\n",
        "\n",
        "class MyDataset(Dataset):\n",
        "    def __init__(self, input_features, pos_tags):\n",
        "        self.input_features = input_features.to(device)\n",
        "        self.pos_tags = torch.tensor([pos_to_idx[tag] for tag in pos_tags], dtype=torch.int8).to(device)\n",
        "\n",
        "    def __len__(self):\n",
        "        return len(self.input_features)\n",
        "\n",
        "    def __getitem__(self, idx):\n",
        "        input_feature = self.input_features[idx]\n",
        "        pos_tag = self.pos_tags[idx]\n",
        "        # perform any necessary data transformations here\n",
        "        return input_feature, pos_tag\n"
      ],
      "metadata": {
        "id": "509YaFS4Dg63"
      },
      "execution_count": null,
      "outputs": []
    },
    {
      "cell_type": "code",
      "source": [
        "data = MyDataset(input_features, pos_tags)"
      ],
      "metadata": {
        "id": "toupmuqTFW5w",
        "colab": {
          "base_uri": "https://localhost:8080/",
          "height": 164
        },
        "outputId": "17377bb6-557f-44eb-b1e4-70f015dc3a46"
      },
      "execution_count": null,
      "outputs": [
        {
          "output_type": "error",
          "ename": "NameError",
          "evalue": "ignored",
          "traceback": [
            "\u001b[0;31m---------------------------------------------------------------------------\u001b[0m",
            "\u001b[0;31mNameError\u001b[0m                                 Traceback (most recent call last)",
            "\u001b[0;32m<ipython-input-3-cffa2a4f5e8b>\u001b[0m in \u001b[0;36m<module>\u001b[0;34m\u001b[0m\n\u001b[0;32m----> 1\u001b[0;31m \u001b[0mdata\u001b[0m \u001b[0;34m=\u001b[0m \u001b[0mMyDataset\u001b[0m\u001b[0;34m(\u001b[0m\u001b[0minput_features\u001b[0m\u001b[0;34m,\u001b[0m \u001b[0mpos_tags\u001b[0m\u001b[0;34m)\u001b[0m\u001b[0;34m\u001b[0m\u001b[0;34m\u001b[0m\u001b[0m\n\u001b[0m",
            "\u001b[0;31mNameError\u001b[0m: name 'input_features' is not defined"
          ]
        }
      ]
    },
    {
      "cell_type": "code",
      "source": [
        "del input_features"
      ],
      "metadata": {
        "id": "c1QdEuGE5412"
      },
      "execution_count": null,
      "outputs": []
    },
    {
      "cell_type": "code",
      "source": [
        "torch.save(data, \"drive/MyDrive/midproject582/data.pt\")\n",
        "# torch.save(data, \"data.pt\")"
      ],
      "metadata": {
        "id": "PGpY0unnw29B"
      },
      "execution_count": null,
      "outputs": []
    },
    {
      "cell_type": "code",
      "source": [
        "!ls drive/MyDrive/midproject582"
      ],
      "metadata": {
        "colab": {
          "base_uri": "https://localhost:8080/"
        },
        "id": "4nUtEti9JhfV",
        "outputId": "8d3565e0-427d-47ee-9ca1-ac4d1ae5d509"
      },
      "execution_count": null,
      "outputs": [
        {
          "output_type": "stream",
          "name": "stdout",
          "text": [
            "'data (1).pt'   data.pt   glove.840B.300d.zip\n"
          ]
        }
      ]
    },
    {
      "cell_type": "code",
      "source": [
        "data = torch.load(\"drive/MyDrive/midproject582/data (1).pt\")"
      ],
      "metadata": {
        "id": "TCVJ9NCqxHKo"
      },
      "execution_count": null,
      "outputs": []
    },
    {
      "cell_type": "code",
      "source": [
        "data.input_features= data.input_features.to(device)\n",
        "data.pos_tags=data.pos_tags.to(device)"
      ],
      "metadata": {
        "id": "KEQ4-fLuIUiJ"
      },
      "execution_count": null,
      "outputs": []
    },
    {
      "cell_type": "code",
      "source": [
        "train_size = int(0.8 * len(data))\n",
        "val_size = len(data) - train_size\n",
        "\n",
        "# Split the dataset into training and validation sets\n",
        "train_dataset, val_dataset = torch.utils.data.random_split(data, [train_size, val_size])"
      ],
      "metadata": {
        "id": "UX_BURzoUJwn"
      },
      "execution_count": null,
      "outputs": []
    },
    {
      "cell_type": "code",
      "source": [
        "input_features.shape"
      ],
      "metadata": {
        "colab": {
          "base_uri": "https://localhost:8080/"
        },
        "id": "AGhqdhZ_J_fx",
        "outputId": "4f00453b-4b3a-4d16-ac45-49f084cabbe7"
      },
      "execution_count": null,
      "outputs": [
        {
          "output_type": "execute_result",
          "data": {
            "text/plain": [
              "(211727, 3300)"
            ]
          },
          "metadata": {},
          "execution_count": 48
        }
      ]
    },
    {
      "cell_type": "code",
      "source": [
        "from torch.utils.data import DataLoader\n",
        "\n",
        "trainloader = DataLoader(train_dataset, batch_size=256, shuffle=True)\n",
        "val_loader = DataLoader(val_dataset, batch_size=256, shuffle=True)"
      ],
      "metadata": {
        "id": "UDbHBOQ7Fcao"
      },
      "execution_count": null,
      "outputs": []
    },
    {
      "cell_type": "code",
      "source": [
        "pos_vocab = np.unique(data.pos_tags.cpu().numpy())\n",
        "len(pos_vocab)"
      ],
      "metadata": {
        "colab": {
          "base_uri": "https://localhost:8080/"
        },
        "id": "O1nG1SZwHcei",
        "outputId": "2d5af304-387a-4338-d1f2-03e33166deb7"
      },
      "execution_count": null,
      "outputs": [
        {
          "output_type": "execute_result",
          "data": {
            "text/plain": [
              "44"
            ]
          },
          "metadata": {},
          "execution_count": 9
        }
      ]
    },
    {
      "cell_type": "code",
      "source": [
        "import torch\n",
        "import torch.nn as nn\n",
        "import torch.optim as optim\n",
        "\n",
        "\n",
        "class MLP(nn.Module):\n",
        "    def __init__(self, input_dim, output_dim):\n",
        "        super(MLP, self).__init__()\n",
        "        self.fc1 = nn.Linear(input_dim, 512)\n",
        "        self.fc2 = nn.Linear(512, 256)\n",
        "        self.fc3 = nn.Linear(256, output_dim)\n",
        "        self.dropout = nn.Dropout(0.3)\n",
        "        self.relu = nn.ReLU()\n",
        "        self.softmax = nn.Softmax(dim=1)\n",
        "\n",
        "    def forward(self, x):\n",
        "        x = self.fc1(x)\n",
        "        x = self.relu(x)\n",
        "        x = self.dropout(x)\n",
        "        x = self.fc2(x)\n",
        "        x = self.relu(x)\n",
        "        x = self.dropout(x)\n",
        "        x = self.fc3(x)\n",
        "        x = self.softmax(x)\n",
        "        return x\n",
        "\n",
        "\n",
        "# 4. Load dataset using torch dataloader and train the model\n",
        "\n",
        "model = MLP(6300, 44).to(device)"
      ],
      "metadata": {
        "id": "t677DlskDjFD"
      },
      "execution_count": null,
      "outputs": []
    },
    {
      "cell_type": "code",
      "source": [
        "import torch.nn.functional as F\n",
        "from tqdm import tqdm\n",
        "\n",
        "optimizer = optim.Adam(model.parameters())\n",
        "criterion = nn.CrossEntropyLoss()\n",
        "\n",
        "def categorical_accuracy(preds, y):\n",
        "    \"\"\"\n",
        "    Returns accuracy per batch, i.e. if you get 8/10 right, this returns 0.8, NOT 8\n",
        "    \"\"\"\n",
        "    # mask = (y > 8) & (y < len(pos_vocab)-1)  # Create a boolean mask for the desired range of y values\n",
        "    # preds = preds[mask]\n",
        "    # y = y[mask]\n",
        "    _, preds = torch.max(preds, dim=1)\n",
        "    correct = (preds == y).float()\n",
        "    acc = correct.sum() / len(correct)\n",
        "    return acc\n",
        "\n",
        "\n",
        "def train(model, iterator, optimizer, criterion):\n",
        "    epoch_loss = 0\n",
        "    epoch_acc = 0\n",
        "\n",
        "    model.train()\n",
        "\n",
        "    for i, batch in enumerate(iterator):\n",
        "        optimizer.zero_grad()\n",
        "        x, y = batch\n",
        "        predictions = model(x)\n",
        "        loss = criterion(predictions, F.one_hot(y.long(), len(pos_vocab)).float())\n",
        "        acc = categorical_accuracy(predictions, y)\n",
        "        loss.backward()\n",
        "        optimizer.step()\n",
        "\n",
        "        epoch_loss += loss.item()\n",
        "        epoch_acc += acc.item()\n",
        "\n",
        "    return epoch_loss / len(iterator), epoch_acc / len(iterator)\n",
        "\n",
        "\n",
        "def evaluate(model, iterator, criterion):\n",
        "    epoch_loss = 0\n",
        "    epoch_acc = 0\n",
        "\n",
        "    model.eval()\n",
        "\n",
        "    with torch.no_grad():\n",
        "        for batch in iterator:\n",
        "            x, y = batch\n",
        "            predictions = model(x)\n",
        "            loss = criterion(predictions, F.one_hot(y.long(), len(pos_vocab)).float())\n",
        "            acc = categorical_accuracy(predictions, y)\n",
        "\n",
        "            epoch_loss += loss.item()\n",
        "            epoch_acc += acc.item()\n",
        "\n",
        "    return epoch_loss / len(iterator), epoch_acc / len(iterator)"
      ],
      "metadata": {
        "id": "Y3GW1yjsLtO7"
      },
      "execution_count": null,
      "outputs": []
    },
    {
      "cell_type": "code",
      "source": [
        "for e in tqdm(range(100)):\n",
        "    loss, acc = train(model, trainloader, optimizer, criterion)\n",
        "    print(f'\\nloss: {loss}, acc: {acc}')\n",
        "    loss, acc = evaluate(model, val_loader, criterion)\n",
        "    print(f'loss: {loss}, acc: {acc}')"
      ],
      "metadata": {
        "colab": {
          "base_uri": "https://localhost:8080/"
        },
        "id": "cfGb_0zIMljE",
        "outputId": "d1c1ad3f-53cc-41f0-9d17-6b78ddfae47d"
      },
      "execution_count": null,
      "outputs": [
        {
          "output_type": "stream",
          "name": "stderr",
          "text": [
            "\r  0%|          | 0/100 [00:00<?, ?it/s]"
          ]
        },
        {
          "output_type": "stream",
          "name": "stdout",
          "text": [
            "\n",
            "loss: 3.408109373916672, acc: 0.4155518315349821\n"
          ]
        },
        {
          "output_type": "stream",
          "name": "stderr",
          "text": [
            "\r  1%|          | 1/100 [00:04<07:42,  4.67s/it]"
          ]
        },
        {
          "output_type": "stream",
          "name": "stdout",
          "text": [
            "loss: 3.372780215309327, acc: 0.44938169545437917\n",
            "\n",
            "loss: 3.3600861936177373, acc: 0.4620318793638235\n"
          ]
        },
        {
          "output_type": "stream",
          "name": "stderr",
          "text": [
            "\r  2%|▏         | 2/100 [00:08<06:28,  3.97s/it]"
          ]
        },
        {
          "output_type": "stream",
          "name": "stdout",
          "text": [
            "loss: 3.336724920445178, acc: 0.4856710153889943\n",
            "\n",
            "loss: 3.270803600999884, acc: 0.5517687734520327\n"
          ]
        },
        {
          "output_type": "stream",
          "name": "stderr",
          "text": [
            "\r  3%|▎         | 3/100 [00:11<06:05,  3.77s/it]"
          ]
        },
        {
          "output_type": "stream",
          "name": "stdout",
          "text": [
            "loss: 3.1966528346739618, acc: 0.6265464274280043\n",
            "\n",
            "loss: 3.1399574949662132, acc: 0.6830330423538058\n"
          ]
        },
        {
          "output_type": "stream",
          "name": "stderr",
          "text": [
            "\r  4%|▍         | 4/100 [00:15<06:13,  3.89s/it]"
          ]
        },
        {
          "output_type": "stream",
          "name": "stdout",
          "text": [
            "loss: 3.1135685759854606, acc: 0.7088480692311941\n",
            "\n",
            "loss: 3.0941423782769286, acc: 0.7286111086697017\n"
          ]
        },
        {
          "output_type": "stream",
          "name": "stderr",
          "text": [
            "\r  5%|▌         | 5/100 [00:19<06:04,  3.84s/it]"
          ]
        },
        {
          "output_type": "stream",
          "name": "stdout",
          "text": [
            "loss: 3.094622426722423, acc: 0.7272484690310007\n",
            "\n",
            "loss: 3.027453497817509, acc: 0.7953101396560669\n"
          ]
        },
        {
          "output_type": "stream",
          "name": "stderr",
          "text": [
            "\r  6%|▌         | 6/100 [00:22<05:49,  3.72s/it]"
          ]
        },
        {
          "output_type": "stream",
          "name": "stdout",
          "text": [
            "loss: 3.03096229627908, acc: 0.7918774155249079\n",
            "\n",
            "loss: 3.007990252935634, acc: 0.8148706784961447\n"
          ]
        },
        {
          "output_type": "stream",
          "name": "stderr",
          "text": [
            "\r  7%|▋         | 7/100 [00:26<05:36,  3.62s/it]"
          ]
        },
        {
          "output_type": "stream",
          "name": "stdout",
          "text": [
            "loss: 3.0213888682514787, acc: 0.8016683480825769\n",
            "\n",
            "loss: 2.9919265879605113, acc: 0.8307068871047202\n"
          ]
        },
        {
          "output_type": "stream",
          "name": "stderr",
          "text": [
            "\r  8%|▊         | 8/100 [00:30<05:56,  3.88s/it]"
          ]
        },
        {
          "output_type": "stream",
          "name": "stdout",
          "text": [
            "loss: 3.00470798130495, acc: 0.8179855328726481\n",
            "\n",
            "loss: 2.9824117076360928, acc: 0.8402981380861692\n"
          ]
        },
        {
          "output_type": "stream",
          "name": "stderr",
          "text": [
            "\r  9%|▉         | 9/100 [00:34<05:39,  3.73s/it]"
          ]
        },
        {
          "output_type": "stream",
          "name": "stdout",
          "text": [
            "loss: 3.000905839793653, acc: 0.8216191713350365\n",
            "\n",
            "loss: 2.9727450429132696, acc: 0.8498702565168686\n"
          ]
        },
        {
          "output_type": "stream",
          "name": "stderr",
          "text": [
            "\r 10%|█         | 10/100 [00:37<05:27,  3.64s/it]"
          ]
        },
        {
          "output_type": "stream",
          "name": "stdout",
          "text": [
            "loss: 2.9855424668415482, acc: 0.8370989855513515\n",
            "\n",
            "loss: 2.960927393861408, acc: 0.8617796521532571\n"
          ]
        },
        {
          "output_type": "stream",
          "name": "stderr",
          "text": [
            "\r 11%|█         | 11/100 [00:41<05:26,  3.67s/it]"
          ]
        },
        {
          "output_type": "stream",
          "name": "stdout",
          "text": [
            "loss: 2.9798135398382164, acc: 0.8426542253379362\n",
            "\n",
            "loss: 2.9545725040205295, acc: 0.8681053954128772\n"
          ]
        },
        {
          "output_type": "stream",
          "name": "stderr",
          "text": [
            "\r 12%|█▏        | 12/100 [00:45<05:34,  3.81s/it]"
          ]
        },
        {
          "output_type": "stream",
          "name": "stdout",
          "text": [
            "loss: 2.975207693605538, acc: 0.8472468885312597\n",
            "\n",
            "loss: 2.9499982786322647, acc: 0.8727024183172474\n"
          ]
        },
        {
          "output_type": "stream",
          "name": "stderr",
          "text": [
            "\r 13%|█▎        | 13/100 [00:48<05:21,  3.69s/it]"
          ]
        },
        {
          "output_type": "stream",
          "name": "stdout",
          "text": [
            "loss: 2.973057758377259, acc: 0.8495925032948873\n",
            "\n",
            "loss: 2.9458733595389974, acc: 0.876634309479117\n"
          ]
        },
        {
          "output_type": "stream",
          "name": "stderr",
          "text": [
            "\r 14%|█▍        | 14/100 [00:52<05:10,  3.61s/it]"
          ]
        },
        {
          "output_type": "stream",
          "name": "stdout",
          "text": [
            "loss: 2.9717688143971457, acc: 0.8507433332592608\n",
            "\n",
            "loss: 2.943193396412714, acc: 0.8793380366711459\n"
          ]
        },
        {
          "output_type": "stream",
          "name": "stderr",
          "text": [
            "\r 15%|█▌        | 15/100 [00:56<05:13,  3.69s/it]"
          ]
        },
        {
          "output_type": "stream",
          "name": "stdout",
          "text": [
            "loss: 2.9673613324222794, acc: 0.8552791652191116\n",
            "\n",
            "loss: 2.9394297016351243, acc: 0.8830640119728365\n"
          ]
        },
        {
          "output_type": "stream",
          "name": "stderr",
          "text": [
            "\r 16%|█▌        | 16/100 [01:00<05:30,  3.93s/it]"
          ]
        },
        {
          "output_type": "stream",
          "name": "stdout",
          "text": [
            "loss: 2.9672110008906167, acc: 0.8552085703395935\n",
            "\n",
            "loss: 2.9380129294813218, acc: 0.8846197529861934\n"
          ]
        },
        {
          "output_type": "stream",
          "name": "stderr",
          "text": [
            "\r 17%|█▋        | 17/100 [01:04<05:26,  3.93s/it]"
          ]
        },
        {
          "output_type": "stream",
          "name": "stdout",
          "text": [
            "loss: 2.967281263994883, acc: 0.8555264691990542\n",
            "\n",
            "loss: 2.9371768974465544, acc: 0.8853638465671021\n"
          ]
        },
        {
          "output_type": "stream",
          "name": "stderr",
          "text": [
            "\r 18%|█▊        | 18/100 [01:08<05:10,  3.79s/it]"
          ]
        },
        {
          "output_type": "stream",
          "name": "stdout",
          "text": [
            "loss: 2.968907290194408, acc: 0.8535848881106779\n",
            "\n",
            "loss: 2.9366047389557717, acc: 0.8859494443746492\n"
          ]
        },
        {
          "output_type": "stream",
          "name": "stderr",
          "text": [
            "\r 19%|█▉        | 19/100 [01:12<05:17,  3.92s/it]"
          ]
        },
        {
          "output_type": "stream",
          "name": "stdout",
          "text": [
            "loss: 2.9671213971563133, acc: 0.8554496585604656\n",
            "\n",
            "loss: 2.935262796741958, acc: 0.8872915450539833\n"
          ]
        },
        {
          "output_type": "stream",
          "name": "stderr",
          "text": [
            "\r 20%|██        | 20/100 [01:15<05:01,  3.77s/it]"
          ]
        },
        {
          "output_type": "stream",
          "name": "stdout",
          "text": [
            "loss: 2.9714763207607957, acc: 0.850955117897815\n",
            "\n",
            "loss: 2.934223117785151, acc: 0.8882828592533791\n"
          ]
        },
        {
          "output_type": "stream",
          "name": "stderr",
          "text": [
            "\r 21%|██        | 21/100 [01:19<04:50,  3.68s/it]"
          ]
        },
        {
          "output_type": "stream",
          "name": "stdout",
          "text": [
            "loss: 2.9651514851903342, acc: 0.857293117118169\n",
            "\n",
            "loss: 2.933434420842058, acc: 0.8890289912771242\n"
          ]
        },
        {
          "output_type": "stream",
          "name": "stderr",
          "text": [
            "\r 22%|██▏       | 22/100 [01:23<04:50,  3.73s/it]"
          ]
        },
        {
          "output_type": "stream",
          "name": "stdout",
          "text": [
            "loss: 2.9657404480210268, acc: 0.8567163703671421\n",
            "\n",
            "loss: 2.9330099792278785, acc: 0.8896046115192402\n"
          ]
        },
        {
          "output_type": "stream",
          "name": "stderr",
          "text": [
            "\r 23%|██▎       | 23/100 [01:27<04:54,  3.83s/it]"
          ]
        },
        {
          "output_type": "stream",
          "name": "stdout",
          "text": [
            "loss: 2.966095453285309, acc: 0.8563478560332792\n",
            "\n",
            "loss: 2.932426456238208, acc: 0.8900038192999687\n"
          ]
        },
        {
          "output_type": "stream",
          "name": "stderr",
          "text": [
            "\r 24%|██▍       | 24/100 [01:30<04:41,  3.71s/it]"
          ]
        },
        {
          "output_type": "stream",
          "name": "stdout",
          "text": [
            "loss: 2.964840730988836, acc: 0.8578418924147824\n",
            "\n",
            "loss: 2.9319559710263485, acc: 0.8905894171075158\n"
          ]
        },
        {
          "output_type": "stream",
          "name": "stderr",
          "text": [
            "\r 25%|██▌       | 25/100 [01:33<04:31,  3.62s/it]"
          ]
        },
        {
          "output_type": "stream",
          "name": "stdout",
          "text": [
            "loss: 2.9658888836941086, acc: 0.8563576240137399\n",
            "\n",
            "loss: 2.9286692661101004, acc: 0.893794094147639\n"
          ]
        },
        {
          "output_type": "stream",
          "name": "stderr",
          "text": [
            "\r 26%|██▌       | 26/100 [01:38<04:39,  3.77s/it]"
          ]
        },
        {
          "output_type": "stream",
          "name": "stdout",
          "text": [
            "loss: 2.960807037640767, acc: 0.8614599909408983\n",
            "\n",
            "loss: 2.9245751793651062, acc: 0.8979915158986325\n"
          ]
        },
        {
          "output_type": "stream",
          "name": "stderr",
          "text": [
            "\r 27%|██▋       | 27/100 [01:41<04:32,  3.73s/it]"
          ]
        },
        {
          "output_type": "stream",
          "name": "stdout",
          "text": [
            "loss: 2.960373519414879, acc: 0.8619030958198639\n",
            "\n",
            "loss: 2.9245141348449843, acc: 0.8980578537974113\n"
          ]
        },
        {
          "output_type": "stream",
          "name": "stderr",
          "text": [
            "\r 28%|██▊       | 28/100 [01:45<04:22,  3.65s/it]"
          ]
        },
        {
          "output_type": "stream",
          "name": "stdout",
          "text": [
            "loss: 2.959335003990725, acc: 0.863205327326993\n",
            "\n",
            "loss: 2.9234109144556557, acc: 0.899119761595193\n"
          ]
        },
        {
          "output_type": "stream",
          "name": "stderr",
          "text": [
            "\r 29%|██▉       | 29/100 [01:48<04:13,  3.58s/it]"
          ]
        },
        {
          "output_type": "stream",
          "name": "stdout",
          "text": [
            "loss: 2.9600789590054246, acc: 0.8622347586844341\n",
            "\n",
            "loss: 2.9236624640640536, acc: 0.8988430375779143\n"
          ]
        },
        {
          "output_type": "stream",
          "name": "stderr",
          "text": [
            "\r 30%|███       | 30/100 [01:52<04:26,  3.81s/it]"
          ]
        },
        {
          "output_type": "stream",
          "name": "stdout",
          "text": [
            "loss: 2.9594265840139733, acc: 0.8630583656121449\n",
            "\n",
            "loss: 2.9227476937533146, acc: 0.899772090674167\n"
          ]
        },
        {
          "output_type": "stream",
          "name": "stderr",
          "text": [
            "\r 31%|███       | 31/100 [01:56<04:15,  3.70s/it]"
          ]
        },
        {
          "output_type": "stream",
          "name": "stdout",
          "text": [
            "loss: 2.9604683884655136, acc: 0.8618329451026687\n",
            "\n",
            "loss: 2.9227427553914467, acc: 0.8998050629372323\n"
          ]
        },
        {
          "output_type": "stream",
          "name": "stderr",
          "text": [
            "\r 32%|███▏      | 32/100 [01:59<04:06,  3.62s/it]"
          ]
        },
        {
          "output_type": "stream",
          "name": "stdout",
          "text": [
            "loss: 2.9595655332128685, acc: 0.8629877707326269\n",
            "\n",
            "loss: 2.9224726674780026, acc: 0.9001084294203905\n"
          ]
        },
        {
          "output_type": "stream",
          "name": "stderr",
          "text": [
            "\r 33%|███▎      | 33/100 [02:03<04:04,  3.65s/it]"
          ]
        },
        {
          "output_type": "stream",
          "name": "stdout",
          "text": [
            "loss: 2.9611923723335725, acc: 0.8615048341004246\n",
            "\n",
            "loss: 2.9218532880627497, acc: 0.9006388826672764\n"
          ]
        },
        {
          "output_type": "stream",
          "name": "stderr",
          "text": [
            "\r 34%|███▍      | 34/100 [02:07<04:10,  3.79s/it]"
          ]
        },
        {
          "output_type": "stream",
          "name": "stdout",
          "text": [
            "loss: 2.959411816424634, acc: 0.8630130782902959\n",
            "\n",
            "loss: 2.9219865842168065, acc: 0.9005615658990566\n"
          ]
        },
        {
          "output_type": "stream",
          "name": "stderr",
          "text": [
            "\r 35%|███▌      | 35/100 [02:11<04:00,  3.70s/it]"
          ]
        },
        {
          "output_type": "stream",
          "name": "stdout",
          "text": [
            "loss: 2.959546356316072, acc: 0.8629114038972969\n",
            "\n",
            "loss: 2.921814741684951, acc: 0.9006124190153312\n"
          ]
        },
        {
          "output_type": "stream",
          "name": "stderr",
          "text": [
            "\r 36%|███▌      | 36/100 [02:14<03:51,  3.62s/it]"
          ]
        },
        {
          "output_type": "stream",
          "name": "stdout",
          "text": [
            "loss: 2.9571603795132004, acc: 0.8651446886809475\n",
            "\n",
            "loss: 2.9217464743784185, acc: 0.9007265702835383\n"
          ]
        },
        {
          "output_type": "stream",
          "name": "stderr",
          "text": [
            "\r 37%|███▋      | 37/100 [02:18<03:54,  3.73s/it]"
          ]
        },
        {
          "output_type": "stream",
          "name": "stdout",
          "text": [
            "loss: 2.9581198333257652, acc: 0.8642815660281353\n",
            "\n",
            "loss: 2.9209306740688774, acc: 0.9016013013992424\n"
          ]
        },
        {
          "output_type": "stream",
          "name": "stderr",
          "text": [
            "\r 38%|███▊      | 38/100 [02:22<03:53,  3.77s/it]"
          ]
        },
        {
          "output_type": "stream",
          "name": "stdout",
          "text": [
            "loss: 2.9579943260514594, acc: 0.8643033217234783\n",
            "\n",
            "loss: 2.921768310927192, acc: 0.9007043980759797\n"
          ]
        },
        {
          "output_type": "stream",
          "name": "stderr",
          "text": [
            "\r 39%|███▉      | 39/100 [02:25<03:43,  3.66s/it]"
          ]
        },
        {
          "output_type": "stream",
          "name": "stdout",
          "text": [
            "loss: 2.959791520991957, acc: 0.8626934034996722\n",
            "\n",
            "loss: 2.9202735640131094, acc: 0.9022117177885465\n"
          ]
        },
        {
          "output_type": "stream",
          "name": "stderr",
          "text": [
            "\r 40%|████      | 40/100 [02:29<03:36,  3.60s/it]"
          ]
        },
        {
          "output_type": "stream",
          "name": "stdout",
          "text": [
            "loss: 2.95768579661128, acc: 0.8648347815117204\n",
            "\n",
            "loss: 2.9204539449553475, acc: 0.9020117026081258\n"
          ]
        },
        {
          "output_type": "stream",
          "name": "stderr",
          "text": [
            "\r 41%|████      | 41/100 [02:33<03:44,  3.81s/it]"
          ]
        },
        {
          "output_type": "stream",
          "name": "stdout",
          "text": [
            "loss: 2.959467560411936, acc: 0.8630858932632998\n",
            "\n",
            "loss: 2.9208932167813857, acc: 0.9015481952814177\n"
          ]
        },
        {
          "output_type": "stream",
          "name": "stderr",
          "text": [
            "\r 42%|████▏     | 42/100 [02:37<03:36,  3.72s/it]"
          ]
        },
        {
          "output_type": "stream",
          "name": "stdout",
          "text": [
            "loss: 2.9589015073086844, acc: 0.8636031448841095\n",
            "\n",
            "loss: 2.92130290993751, acc: 0.9011968008701174\n"
          ]
        },
        {
          "output_type": "stream",
          "name": "stderr",
          "text": [
            "\r 43%|████▎     | 43/100 [02:40<03:28,  3.65s/it]"
          ]
        },
        {
          "output_type": "stream",
          "name": "stdout",
          "text": [
            "loss: 2.9605451621204972, acc: 0.8619639230779854\n",
            "\n",
            "loss: 2.9215308035248357, acc: 0.9009994320638951\n"
          ]
        },
        {
          "output_type": "stream",
          "name": "stderr",
          "text": [
            "\r 44%|████▍     | 44/100 [02:44<03:20,  3.58s/it]"
          ]
        },
        {
          "output_type": "stream",
          "name": "stdout",
          "text": [
            "loss: 2.9596471269446685, acc: 0.8627560063298926\n",
            "\n",
            "loss: 2.9212830578092364, acc: 0.9011534576689729\n"
          ]
        },
        {
          "output_type": "stream",
          "name": "stderr",
          "text": [
            "\r 45%|████▌     | 45/100 [02:48<03:28,  3.80s/it]"
          ]
        },
        {
          "output_type": "stream",
          "name": "stdout",
          "text": [
            "loss: 2.960018412176385, acc: 0.8625073702220457\n",
            "\n",
            "loss: 2.9215357062319613, acc: 0.9009693207337417\n"
          ]
        },
        {
          "output_type": "stream",
          "name": "stderr",
          "text": [
            "\r 46%|████▌     | 46/100 [02:51<03:19,  3.69s/it]"
          ]
        },
        {
          "output_type": "stream",
          "name": "stdout",
          "text": [
            "loss: 2.958816839987973, acc: 0.8636053649775953\n",
            "\n",
            "loss: 2.9205664468315793, acc: 0.9019185075947165\n"
          ]
        },
        {
          "output_type": "stream",
          "name": "stderr",
          "text": [
            "\r 47%|████▋     | 47/100 [02:55<03:10,  3.60s/it]"
          ]
        },
        {
          "output_type": "stream",
          "name": "stdout",
          "text": [
            "loss: 2.959814027131322, acc: 0.8626405682908483\n",
            "\n",
            "loss: 2.9207445347057006, acc: 0.901714630177374\n"
          ]
        },
        {
          "output_type": "stream",
          "name": "stderr",
          "text": [
            "\r 48%|████▊     | 48/100 [02:59<03:11,  3.68s/it]"
          ]
        },
        {
          "output_type": "stream",
          "name": "stdout",
          "text": [
            "loss: 2.961601095027234, acc: 0.860836624740118\n",
            "\n",
            "loss: 2.9218039102064517, acc: 0.9006341978502418\n"
          ]
        },
        {
          "output_type": "stream",
          "name": "stderr",
          "text": [
            "\r 49%|████▉     | 49/100 [03:02<03:11,  3.75s/it]"
          ]
        },
        {
          "output_type": "stream",
          "name": "stdout",
          "text": [
            "loss: 2.962058364626873, acc: 0.8603855281709188\n",
            "\n",
            "loss: 2.9216196555025267, acc: 0.9008486607643773\n"
          ]
        },
        {
          "output_type": "stream",
          "name": "stderr",
          "text": [
            "\r 50%|█████     | 50/100 [03:06<03:03,  3.68s/it]"
          ]
        },
        {
          "output_type": "stream",
          "name": "stdout",
          "text": [
            "loss: 2.9611917001655303, acc: 0.8612268947693239\n",
            "\n",
            "loss: 2.9198886516231064, acc: 0.9025486644661318\n"
          ]
        },
        {
          "output_type": "stream",
          "name": "stderr",
          "text": [
            "\r 51%|█████     | 51/100 [03:09<02:55,  3.59s/it]"
          ]
        },
        {
          "output_type": "stream",
          "name": "stdout",
          "text": [
            "loss: 2.9598406309104828, acc: 0.8626308003103876\n",
            "\n",
            "loss: 2.921301291068155, acc: 0.9011327158828516\n"
          ]
        },
        {
          "output_type": "stream",
          "name": "stderr",
          "text": [
            "\r 52%|█████▏    | 52/100 [03:13<02:58,  3.71s/it]"
          ]
        },
        {
          "output_type": "stream",
          "name": "stdout",
          "text": [
            "loss: 2.9592149458735824, acc: 0.8633132174790624\n",
            "\n",
            "loss: 2.920584352715138, acc: 0.9018458756435314\n"
          ]
        },
        {
          "output_type": "stream",
          "name": "stderr",
          "text": [
            "\r 53%|█████▎    | 53/100 [03:17<02:54,  3.72s/it]"
          ]
        },
        {
          "output_type": "stream",
          "name": "stdout",
          "text": [
            "loss: 2.9596216491906038, acc: 0.8627284786787378\n",
            "\n",
            "loss: 2.9213889707611407, acc: 0.9010604773043146\n"
          ]
        },
        {
          "output_type": "stream",
          "name": "stderr",
          "text": [
            "\r 54%|█████▍    | 54/100 [03:20<02:46,  3.62s/it]"
          ]
        },
        {
          "output_type": "stream",
          "name": "stdout",
          "text": [
            "loss: 2.9594937189515815, acc: 0.8629855506391411\n",
            "\n",
            "loss: 2.9212330392480257, acc: 0.9011817452050408\n"
          ]
        },
        {
          "output_type": "stream",
          "name": "stderr",
          "text": [
            "\r 55%|█████▌    | 55/100 [03:24<02:41,  3.58s/it]"
          ]
        },
        {
          "output_type": "stream",
          "name": "stdout",
          "text": [
            "loss: 2.957985747291381, acc: 0.8644525035318121\n",
            "\n",
            "loss: 2.91835567418182, acc: 0.9041591566675019\n"
          ]
        },
        {
          "output_type": "stream",
          "name": "stderr",
          "text": [
            "\r 56%|█████▌    | 56/100 [03:28<02:46,  3.78s/it]"
          ]
        },
        {
          "output_type": "stream",
          "name": "stdout",
          "text": [
            "loss: 2.958728359406253, acc: 0.8638366852180067\n",
            "\n",
            "loss: 2.919932314276335, acc: 0.9025775599335616\n"
          ]
        },
        {
          "output_type": "stream",
          "name": "stderr",
          "text": [
            "\r 57%|█████▋    | 57/100 [03:32<02:37,  3.66s/it]"
          ]
        },
        {
          "output_type": "stream",
          "name": "stdout",
          "text": [
            "loss: 2.95739564694554, acc: 0.8650936294032867\n",
            "\n",
            "loss: 2.920491308243973, acc: 0.9019624587272229\n"
          ]
        },
        {
          "output_type": "stream",
          "name": "stderr",
          "text": [
            "\r 58%|█████▊    | 58/100 [03:35<02:31,  3.60s/it]"
          ]
        },
        {
          "output_type": "stream",
          "name": "stdout",
          "text": [
            "loss: 2.958758971777307, acc: 0.8637465547366314\n",
            "\n",
            "loss: 2.920871728856758, acc: 0.9016511532115072\n"
          ]
        },
        {
          "output_type": "stream",
          "name": "stderr",
          "text": [
            "\r 59%|█████▉    | 59/100 [03:39<02:28,  3.62s/it]"
          ]
        },
        {
          "output_type": "stream",
          "name": "stdout",
          "text": [
            "loss: 2.9600247747926827, acc: 0.8624207916029965\n",
            "\n",
            "loss: 2.920573470815791, acc: 0.9018989817613562\n"
          ]
        },
        {
          "output_type": "stream",
          "name": "stderr",
          "text": [
            "\r 60%|██████    | 60/100 [03:43<02:31,  3.78s/it]"
          ]
        },
        {
          "output_type": "stream",
          "name": "stdout",
          "text": [
            "loss: 2.96019752628832, acc: 0.8622485223304794\n",
            "\n",
            "loss: 2.9210357856894547, acc: 0.9014210267009332\n"
          ]
        },
        {
          "output_type": "stream",
          "name": "stderr",
          "text": [
            "\r 61%|██████    | 61/100 [03:46<02:23,  3.67s/it]"
          ]
        },
        {
          "output_type": "stream",
          "name": "stdout",
          "text": [
            "loss: 2.958589147372418, acc: 0.8639445757291403\n",
            "\n",
            "loss: 2.9198306554033677, acc: 0.9026227269287916\n"
          ]
        },
        {
          "output_type": "stream",
          "name": "stderr",
          "text": [
            "\r 62%|██████▏   | 62/100 [03:50<02:16,  3.59s/it]"
          ]
        },
        {
          "output_type": "stream",
          "name": "stdout",
          "text": [
            "loss: 2.9578748927058944, acc: 0.8645506260624851\n",
            "\n",
            "loss: 2.9204110886755306, acc: 0.902098174361664\n"
          ]
        },
        {
          "output_type": "stream",
          "name": "stderr",
          "text": [
            "\r 63%|██████▎   | 63/100 [03:54<02:16,  3.69s/it]"
          ]
        },
        {
          "output_type": "stream",
          "name": "stdout",
          "text": [
            "loss: 2.9569513553596405, acc: 0.8655740295548037\n",
            "\n",
            "loss: 2.9197082094555533, acc: 0.9027637353116292\n"
          ]
        },
        {
          "output_type": "stream",
          "name": "stderr",
          "text": [
            "\r 64%|██████▍   | 64/100 [03:57<02:14,  3.74s/it]"
          ]
        },
        {
          "output_type": "stream",
          "name": "stdout",
          "text": [
            "loss: 2.9579104960682883, acc: 0.8645603936838816\n",
            "\n",
            "loss: 2.92077206448846, acc: 0.9016957122753754\n"
          ]
        },
        {
          "output_type": "stream",
          "name": "stderr",
          "text": [
            "\r 65%|██████▌   | 65/100 [04:01<02:07,  3.66s/it]"
          ]
        },
        {
          "output_type": "stream",
          "name": "stdout",
          "text": [
            "loss: 2.9581439423273843, acc: 0.8643819086522941\n",
            "\n",
            "loss: 2.9202298088016105, acc: 0.9021875071381514\n"
          ]
        },
        {
          "output_type": "stream",
          "name": "stderr",
          "text": [
            "\r 66%|██████▌   | 66/100 [04:04<02:01,  3.58s/it]"
          ]
        },
        {
          "output_type": "stream",
          "name": "stdout",
          "text": [
            "loss: 2.957274475729609, acc: 0.8650896333786379\n",
            "\n",
            "loss: 2.9200450027097027, acc: 0.9024182415800872\n"
          ]
        },
        {
          "output_type": "stream",
          "name": "stderr",
          "text": [
            "\r 67%|██████▋   | 67/100 [04:09<02:04,  3.78s/it]"
          ]
        },
        {
          "output_type": "stream",
          "name": "stdout",
          "text": [
            "loss: 2.958715744765408, acc: 0.8636737397636276\n",
            "\n",
            "loss: 2.919769882075376, acc: 0.9027138834993644\n"
          ]
        },
        {
          "output_type": "stream",
          "name": "stderr",
          "text": [
            "\r 68%|██████▊   | 68/100 [04:12<01:59,  3.73s/it]"
          ]
        },
        {
          "output_type": "stream",
          "name": "stdout",
          "text": [
            "loss: 2.9593582928898825, acc: 0.8631169727767807\n",
            "\n",
            "loss: 2.9207804329085567, acc: 0.9017113758718139\n"
          ]
        },
        {
          "output_type": "stream",
          "name": "stderr",
          "text": [
            "\r 69%|██████▉   | 69/100 [04:16<01:52,  3.64s/it]"
          ]
        },
        {
          "output_type": "stream",
          "name": "stdout",
          "text": [
            "loss: 2.95912789436708, acc: 0.863399352294853\n",
            "\n",
            "loss: 2.9199244846390093, acc: 0.9025458035332199\n"
          ]
        },
        {
          "output_type": "stream",
          "name": "stderr",
          "text": [
            "\r 70%|███████   | 70/100 [04:19<01:48,  3.63s/it]"
          ]
        },
        {
          "output_type": "stream",
          "name": "stdout",
          "text": [
            "loss: 2.9591734179531235, acc: 0.8633505131106779\n",
            "\n",
            "loss: 2.919968203115319, acc: 0.9025028895395399\n"
          ]
        },
        {
          "output_type": "stream",
          "name": "stderr",
          "text": [
            "\r 71%|███████   | 71/100 [04:24<01:51,  3.83s/it]"
          ]
        },
        {
          "output_type": "stream",
          "name": "stdout",
          "text": [
            "loss: 2.9576748494642326, acc: 0.8648858407893812\n",
            "\n",
            "loss: 2.9196228314742583, acc: 0.9028607925619604\n"
          ]
        },
        {
          "output_type": "stream",
          "name": "stderr",
          "text": [
            "\r 72%|███████▏  | 72/100 [04:27<01:43,  3.70s/it]"
          ]
        },
        {
          "output_type": "stream",
          "name": "stdout",
          "text": [
            "loss: 2.9566956988300186, acc: 0.8657387509403458\n",
            "\n",
            "loss: 2.9211958059731566, acc: 0.9012873495093285\n"
          ]
        },
        {
          "output_type": "stream",
          "name": "stderr",
          "text": [
            "\r 73%|███████▎  | 73/100 [04:30<01:37,  3.63s/it]"
          ]
        },
        {
          "output_type": "stream",
          "name": "stdout",
          "text": [
            "loss: 2.958611074700413, acc: 0.8638504492231163\n",
            "\n",
            "loss: 2.9209949098684995, acc: 0.9015009898433513\n"
          ]
        },
        {
          "output_type": "stream",
          "name": "stderr",
          "text": [
            "\r 74%|███████▍  | 74/100 [04:34<01:35,  3.66s/it]"
          ]
        },
        {
          "output_type": "stream",
          "name": "stdout",
          "text": [
            "loss: 2.9608341024582643, acc: 0.8616993032306074\n",
            "\n",
            "loss: 2.91976546881062, acc: 0.9027026900712097\n"
          ]
        },
        {
          "output_type": "stream",
          "name": "stderr",
          "text": [
            "\r 75%|███████▌  | 75/100 [04:38<01:34,  3.79s/it]"
          ]
        },
        {
          "output_type": "stream",
          "name": "stdout",
          "text": [
            "loss: 2.9570362539176482, acc: 0.8654741314520319\n",
            "\n",
            "loss: 2.920279965299854, acc: 0.9022090714143483\n"
          ]
        },
        {
          "output_type": "stream",
          "name": "stderr",
          "text": [
            "\r 76%|███████▌  | 76/100 [04:42<01:28,  3.68s/it]"
          ]
        },
        {
          "output_type": "stream",
          "name": "stdout",
          "text": [
            "loss: 2.963136272258069, acc: 0.8593345966683813\n",
            "\n",
            "loss: 2.9203506654122804, acc: 0.9021205612179736\n"
          ]
        },
        {
          "output_type": "stream",
          "name": "stderr",
          "text": [
            "\r 77%|███████▋  | 77/100 [04:45<01:22,  3.59s/it]"
          ]
        },
        {
          "output_type": "stream",
          "name": "stdout",
          "text": [
            "loss: 2.959151313965579, acc: 0.8633482930171921\n",
            "\n",
            "loss: 2.9217461102678697, acc: 0.900762796942201\n"
          ]
        },
        {
          "output_type": "stream",
          "name": "stderr",
          "text": [
            "\r 78%|███████▊  | 78/100 [04:49<01:22,  3.75s/it]"
          ]
        },
        {
          "output_type": "stream",
          "name": "stdout",
          "text": [
            "loss: 2.9580791657229506, acc: 0.8643388414239309\n",
            "\n",
            "loss: 2.9209272540948183, acc: 0.9015624284564189\n"
          ]
        },
        {
          "output_type": "stream",
          "name": "stderr",
          "text": [
            "\r 79%|███████▉  | 79/100 [04:53<01:18,  3.72s/it]"
          ]
        },
        {
          "output_type": "stream",
          "name": "stdout",
          "text": [
            "loss: 2.957146990730102, acc: 0.8653311654027686\n",
            "\n",
            "loss: 2.921958533298573, acc: 0.9005338862943505\n"
          ]
        },
        {
          "output_type": "stream",
          "name": "stderr",
          "text": [
            "\r 80%|████████  | 80/100 [04:56<01:13,  3.65s/it]"
          ]
        },
        {
          "output_type": "stream",
          "name": "stdout",
          "text": [
            "loss: 2.957080625625978, acc: 0.8653977646167019\n",
            "\n",
            "loss: 2.921298389708528, acc: 0.9011723756610087\n"
          ]
        },
        {
          "output_type": "stream",
          "name": "stderr",
          "text": [
            "\r 81%|████████  | 81/100 [05:00<01:08,  3.59s/it]"
          ]
        },
        {
          "output_type": "stream",
          "name": "stdout",
          "text": [
            "loss: 2.9586059199758323, acc: 0.863778078053371\n",
            "\n",
            "loss: 2.9214522820585085, acc: 0.9010120559134872\n"
          ]
        },
        {
          "output_type": "stream",
          "name": "stderr",
          "text": [
            "\r 82%|████████▏ | 82/100 [05:04<01:08,  3.79s/it]"
          ]
        },
        {
          "output_type": "stream",
          "name": "stdout",
          "text": [
            "loss: 2.9576378744768808, acc: 0.8649311277521662\n",
            "\n",
            "loss: 2.9210692712547557, acc: 0.9013915233021417\n"
          ]
        },
        {
          "output_type": "stream",
          "name": "stderr",
          "text": [
            "\r 83%|████████▎ | 83/100 [05:08<01:03,  3.72s/it]"
          ]
        },
        {
          "output_type": "stream",
          "name": "stdout",
          "text": [
            "loss: 2.95948283499982, acc: 0.8629442593419409\n",
            "\n",
            "loss: 2.922121755666243, acc: 0.900396132217073\n"
          ]
        },
        {
          "output_type": "stream",
          "name": "stderr",
          "text": [
            "\r 84%|████████▍ | 84/100 [05:11<00:58,  3.63s/it]"
          ]
        },
        {
          "output_type": "stream",
          "name": "stdout",
          "text": [
            "loss: 2.959504597158317, acc: 0.8630033106688993\n",
            "\n",
            "loss: 2.9211798254456767, acc: 0.901320715145042\n"
          ]
        },
        {
          "output_type": "stream",
          "name": "stderr",
          "text": [
            "\r 85%|████████▌ | 85/100 [05:15<00:55,  3.67s/it]"
          ]
        },
        {
          "output_type": "stream",
          "name": "stdout",
          "text": [
            "loss: 2.9589390381273017, acc: 0.8635778373264404\n",
            "\n",
            "loss: 2.921755431281836, acc: 0.9007371557803312\n"
          ]
        },
        {
          "output_type": "stream",
          "name": "stderr",
          "text": [
            "\r 86%|████████▌ | 86/100 [05:19<00:52,  3.78s/it]"
          ]
        },
        {
          "output_type": "stream",
          "name": "stdout",
          "text": [
            "loss: 2.9595921886972634, acc: 0.8629740070865815\n",
            "\n",
            "loss: 2.9212133581904847, acc: 0.9012405374439101\n"
          ]
        },
        {
          "output_type": "stream",
          "name": "stderr",
          "text": [
            "\r 87%|████████▋ | 87/100 [05:22<00:47,  3.68s/it]"
          ]
        },
        {
          "output_type": "stream",
          "name": "stdout",
          "text": [
            "loss: 2.9589811391141043, acc: 0.8634366475674043\n",
            "\n",
            "loss: 2.9206358766987965, acc: 0.901850560460566\n"
          ]
        },
        {
          "output_type": "stream",
          "name": "stderr",
          "text": [
            "\r 88%|████████▊ | 88/100 [05:26<00:43,  3.62s/it]"
          ]
        },
        {
          "output_type": "stream",
          "name": "stdout",
          "text": [
            "loss: 2.9577875726194267, acc: 0.8647171233791903\n",
            "\n",
            "loss: 2.9219039033907057, acc: 0.9005914626704962\n"
          ]
        },
        {
          "output_type": "stream",
          "name": "stderr",
          "text": [
            "\r 89%|████████▉ | 89/100 [05:30<00:40,  3.72s/it]"
          ]
        },
        {
          "output_type": "stream",
          "name": "stdout",
          "text": [
            "loss: 2.9602575718638406, acc: 0.8622600662421032\n",
            "\n",
            "loss: 2.9216301253915193, acc: 0.9008250580453441\n"
          ]
        },
        {
          "output_type": "stream",
          "name": "stderr",
          "text": [
            "\r 90%|█████████ | 90/100 [05:33<00:37,  3.76s/it]"
          ]
        },
        {
          "output_type": "stream",
          "name": "stdout",
          "text": [
            "loss: 2.959114828741694, acc: 0.8632874661181347\n",
            "\n",
            "loss: 2.9205197560463065, acc: 0.9019683594069812\n"
          ]
        },
        {
          "output_type": "stream",
          "name": "stderr",
          "text": [
            "\r 91%|█████████ | 91/100 [05:37<00:32,  3.66s/it]"
          ]
        },
        {
          "output_type": "stream",
          "name": "stdout",
          "text": [
            "loss: 2.958724682589611, acc: 0.863678179591535\n",
            "\n",
            "loss: 2.9209230518773244, acc: 0.9015547038925379\n"
          ]
        },
        {
          "output_type": "stream",
          "name": "stderr",
          "text": [
            "\r 92%|█████████▏| 92/100 [05:40<00:28,  3.61s/it]"
          ]
        },
        {
          "output_type": "stream",
          "name": "stdout",
          "text": [
            "loss: 2.957504713391683, acc: 0.8650425701256258\n",
            "\n",
            "loss: 2.920707222198071, acc: 0.9017830066090264\n"
          ]
        },
        {
          "output_type": "stream",
          "name": "stderr",
          "text": [
            "\r 93%|█████████▎| 93/100 [05:45<00:26,  3.83s/it]"
          ]
        },
        {
          "output_type": "stream",
          "name": "stdout",
          "text": [
            "loss: 2.9623381100505233, acc: 0.86018750717841\n",
            "\n",
            "loss: 2.921195338139721, acc: 0.9012611004160971\n"
          ]
        },
        {
          "output_type": "stream",
          "name": "stderr",
          "text": [
            "\r 94%|█████████▍| 94/100 [05:48<00:22,  3.71s/it]"
          ]
        },
        {
          "output_type": "stream",
          "name": "stdout",
          "text": [
            "loss: 2.9587370889732636, acc: 0.8637563227170921\n",
            "\n",
            "loss: 2.922959493726402, acc: 0.8995484727747131\n"
          ]
        },
        {
          "output_type": "stream",
          "name": "stderr",
          "text": [
            "\r 95%|█████████▌| 95/100 [05:52<00:18,  3.63s/it]"
          ]
        },
        {
          "output_type": "stream",
          "name": "stdout",
          "text": [
            "loss: 2.9616949615708315, acc: 0.860860156366624\n",
            "\n",
            "loss: 2.922426267332901, acc: 0.9001057830461923\n"
          ]
        },
        {
          "output_type": "stream",
          "name": "stderr",
          "text": [
            "\r 96%|█████████▌| 96/100 [05:55<00:14,  3.60s/it]"
          ]
        },
        {
          "output_type": "stream",
          "name": "stdout",
          "text": [
            "loss: 2.9585745866040147, acc: 0.8639192678124071\n",
            "\n",
            "loss: 2.9229022293292504, acc: 0.8995812304790647\n"
          ]
        },
        {
          "output_type": "stream",
          "name": "stderr",
          "text": [
            "\r 97%|█████████▋| 97/100 [05:59<00:11,  3.76s/it]"
          ]
        },
        {
          "output_type": "stream",
          "name": "stdout",
          "text": [
            "loss: 2.9600091440131866, acc: 0.8624074717602098\n",
            "\n",
            "loss: 2.921870305819094, acc: 0.90063358991888\n"
          ]
        },
        {
          "output_type": "stream",
          "name": "stderr",
          "text": [
            "\r 98%|█████████▊| 98/100 [06:03<00:07,  3.67s/it]"
          ]
        },
        {
          "output_type": "stream",
          "name": "stdout",
          "text": [
            "loss: 2.9591526870267937, acc: 0.8633505131106779\n",
            "\n",
            "loss: 2.9212599510152533, acc: 0.9012307744371927\n"
          ]
        },
        {
          "output_type": "stream",
          "name": "stderr",
          "text": [
            "\r 99%|█████████▉| 99/100 [06:06<00:03,  3.59s/it]"
          ]
        },
        {
          "output_type": "stream",
          "name": "stdout",
          "text": [
            "loss: 2.9608475702354706, acc: 0.8616660036236407\n",
            "\n",
            "loss: 2.92291919882564, acc: 0.8995596662028679\n"
          ]
        },
        {
          "output_type": "stream",
          "name": "stderr",
          "text": [
            "100%|██████████| 100/100 [06:10<00:00,  3.71s/it]"
          ]
        },
        {
          "output_type": "stream",
          "name": "stdout",
          "text": [
            "loss: 2.9627684354782104, acc: 0.8596951189529465\n"
          ]
        },
        {
          "output_type": "stream",
          "name": "stderr",
          "text": [
            "\n"
          ]
        }
      ]
    },
    {
      "cell_type": "code",
      "source": [
        "torch.save(model, \"drive/MyDrive/model_window_size_10.pt\")"
      ],
      "metadata": {
        "id": "Ykr3lMIB6t8h"
      },
      "execution_count": null,
      "outputs": []
    }
  ]
}
