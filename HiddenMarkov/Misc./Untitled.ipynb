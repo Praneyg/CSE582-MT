{
 "cells": [
  {
   "cell_type": "code",
   "execution_count": 1,
   "id": "d4b69782",
   "metadata": {},
   "outputs": [],
   "source": [
    "import nltk\n",
    "import random\n",
    "import numpy as np\n",
    "import pandas as pd\n",
    "import pprint, time\n",
    "from sklearn.metrics import classification_report\n",
    "from sklearn.model_selection import train_test_split\n",
    "\n",
    "'''\n",
    "Reading the input file and storing the \n",
    "values of the 3 columns of each row in\n",
    "a tuple: (<Word>, <POS_TAG>, <CHUNK_TAG>)\n",
    "'''\n",
    "f = open(\"train.txt\", \"r\")\n",
    "sentence_corpus = []\n",
    "sentence = []\n",
    "\n",
    "for line in f:\n",
    "    line = line.strip()\n",
    "    if line == \"\":\n",
    "        sentence_corpus.append(sentence)\n",
    "        sentence = []\n",
    "    else:\n",
    "        word, pos_tag, _ = line.split(\" \")\n",
    "        #ignoring the chunk tag for this task\n",
    "        sentence.append((word, pos_tag))\n",
    "f.close()\n",
    "\n",
    "# Add the last sentence (if any)\n",
    "if sentence:\n",
    "    sentence_corpus.append(sentence)"
   ]
  },
  {
   "cell_type": "code",
   "execution_count": 2,
   "id": "68819bde",
   "metadata": {},
   "outputs": [],
   "source": [
    "#Splitting the corpus data into train_data and test_data (validadtion) (80/20 split)\n",
    "train_set,test_set =train_test_split(sentence_corpus,train_size=0.80,test_size=0.20,random_state = 101)\n",
    "\n",
    "# List of all the tags in the train and the test set (it may not be unique)\n",
    "train_tag_corpus = [ t for sentence in train_set for t in sentence ]\n",
    "test_tag_corpus = [ t for sentence in test_set for t in sentence ]\n",
    "    \n",
    "# Finding number of unique tags and words (Vocabulary)\n",
    "train_tag_set = {tag for word, tag in train_tag_corpus}\n",
    "vocab = {word for word, tag in train_tag_corpus}"
   ]
  },
  {
   "cell_type": "code",
   "execution_count": 3,
   "id": "1dba22dc",
   "metadata": {},
   "outputs": [],
   "source": [
    "'''\n",
    "First implementation: Vertebi Algorithm from scratch\n",
    "Note: Time consuming: Test data running for more than\n",
    "      3 Hours.\n",
    "'''\n",
    "#Methods to compute transition and emission\n",
    "\n",
    "'''\n",
    "prev_tag -> current_tag \n",
    "Pr(current_tag | prev_tag) = (# of prev_tag -> current_tag)/(# of prev_tag)\n",
    "'''\n",
    "def computeTransition(prev_tag, current_tag):\n",
    "    tags = [tag for _, tag in train_tag_corpus]\n",
    "    \n",
    "    #Count of prev_tag\n",
    "    cnt_prev_tag = len([tag for tag in tags if tag == prev_tag])\n",
    "    cnt_prev_curr_tag = 0\n",
    "    \n",
    "    for i in range(1, len(tags)):\n",
    "        if tags[i-1] == prev_tag and tags[i] == current_tag:\n",
    "            cnt_prev_curr_tag += 1\n",
    "    \n",
    "    return cnt_prev_curr_tag / cnt_prev_tag\n",
    "\n",
    "# compute Emission Probability\n",
    "def computeEmission(word, tag):\n",
    "    data = train_tag_corpus\n",
    "    tag_list = [tg for tg in data if tg[1]==tag]\n",
    "    cnt_tag = len(tag_list)\n",
    "    w_given_tag_list = [pair[0] for pair in tag_list if pair[0]==word]\n",
    "    count_w_given_tag = len(w_given_tag_list)\n",
    " \n",
    "    return count_w_given_tag / cnt_tag\n",
    "\n",
    "\n",
    "#The crux of HMM is the emission and transition probabilities\n",
    "\n",
    "#Transition\n",
    "transition = np.zeros((len(train_tag_set), len(train_tag_set)), dtype='float32')\n",
    "train_tag_list = list(train_tag_set)\n",
    "for i in range(len(train_tag_list)):\n",
    "    for j in range(len(train_tag_list)):\n",
    "        transition[i,j] = computeTransition(train_tag_list[i], train_tag_list[j])"
   ]
  },
  {
   "cell_type": "code",
   "execution_count": 4,
   "id": "c5a41252",
   "metadata": {},
   "outputs": [],
   "source": [
    "#Converting transition matrix into a dataframe for better access of the data.\n",
    "tags_df = pd.DataFrame(transition, columns = list(train_tag_list), index=list(train_tag_list))"
   ]
  },
  {
   "cell_type": "code",
   "execution_count": 23,
   "id": "a74b6898",
   "metadata": {},
   "outputs": [],
   "source": [
    "# This part of code helps in cases of unseen words. \n",
    "# Using Regex to match the unseen words with the most appropriate tags  \n",
    "\n",
    "regex = [\n",
    "    (r'.*ing$', 'VBG'),\n",
    "    (r'.*ed$', 'VBD'), \n",
    "    (r'.*es$', 'VBZ'), \n",
    "    (r'.*end$', 'VB'),\n",
    "    (r'^[A-Z].*$', 'NNP'),\n",
    "    (r'\\b\\w+s\\b', 'NNS'),\n",
    "    (r'\\b\\w+NN\\b', 'NN'),\n",
    "    (r'.*', 'NN'),\n",
    "    (r'^-?[0-9]+(.[0-9]+)?$', 'CD'),\n",
    "]\n",
    "\n",
    "unseen_word_tagger = nltk.RegexpTagger(regex)"
   ]
  },
  {
   "cell_type": "code",
   "execution_count": 27,
   "id": "a3685ed4",
   "metadata": {},
   "outputs": [],
   "source": [
    "#Implmenting HMM: Vertebi \n",
    "def Viterbi(words):\n",
    "    data = train_tag_corpus\n",
    "    pos = []\n",
    "    dp = {}\n",
    "    tags = list(set([pair[1] for pair in data]))\n",
    "     \n",
    "    for key, word in enumerate(words):\n",
    "        prob_lst = []\n",
    "        prob_max = -float(\"inf\")\n",
    "        prob_index = 0\n",
    "        for i, tag in enumerate(tags):\n",
    "            if key == 0:\n",
    "                transition_p = tags_df.loc['.', tag]\n",
    "            else:\n",
    "                transition_p = tags_df.loc[pos[-1], tag]\n",
    "            \n",
    "            if (tag, word) in dp.keys():\n",
    "                emission_p = dp[(tag, word)]\n",
    "            else:\n",
    "                emission_p = computeEmission(words[key], tag)\n",
    "                dp[(tag, word)] = emission_p\n",
    "                \n",
    "            prob = emission_p * transition_p    \n",
    "            prob_lst.append(prob)\n",
    "            if prob > prob_max:\n",
    "                prob_max = prob\n",
    "                prob_index = i\n",
    "             \n",
    "        # getting state for which probability is maximum\n",
    "        best_pos_tag = tags[prob_index] \n",
    "        pos.append(best_pos_tag)\n",
    "    return list(zip(words, pos))"
   ]
  },
  {
   "cell_type": "code",
   "execution_count": 51,
   "id": "0529703e",
   "metadata": {},
   "outputs": [
    {
     "name": "stdout",
     "output_type": "stream",
     "text": [
      "Viterbi Accuracy:  87.20882713526767\n"
     ]
    }
   ],
   "source": [
    "#Testing random 10 sentences of the dev data.\n",
    "rndom = [random.randint(1,len(test_set)) for x in range(100)]\n",
    "test_run = [test_set[i] for i in rndom]\n",
    "test_run_base = [tup for sent in test_run for tup in sent]\n",
    "test_tagged_words = [tup[0] for sent in test_run for tup in sent]\n",
    "\n",
    "get_tag = Viterbi(test_tagged_words)\n",
    "  \n",
    "# accuracy\n",
    "acc = [i for i, j in zip(get_tag, test_run_base) if i == j] \n",
    "accuracy = len(acc)/len(get_tag)\n",
    "print('Viterbi Accuracy: ',accuracy*100)"
   ]
  },
  {
   "cell_type": "code",
   "execution_count": 31,
   "id": "badd4eb5",
   "metadata": {},
   "outputs": [
    {
     "name": "stdout",
     "output_type": "stream",
     "text": [
      "[('It', 'PRP'), ('also', 'RB'), ('tracks', 'VBZ'), ('personnel', 'NNS'), ('and', 'CC')] [('It', 'PRP'), ('also', 'RB'), ('tracks', 'VBZ'), ('personnel', 'NNS'), ('and', 'CC')]\n"
     ]
    }
   ],
   "source": [
    "print(get_tag[:5], test_run_base[:5])"
   ]
  },
  {
   "cell_type": "code",
   "execution_count": 28,
   "id": "54b8b93a",
   "metadata": {},
   "outputs": [
    {
     "ename": "KeyboardInterrupt",
     "evalue": "",
     "output_type": "error",
     "traceback": [
      "\u001b[0;31m---------------------------------------------------------------------------\u001b[0m",
      "\u001b[0;31mKeyboardInterrupt\u001b[0m                         Traceback (most recent call last)",
      "\u001b[0;32m/var/folders/n9/n5041f191wnfkmgzsv4_xtqm0000gn/T/ipykernel_15106/416672543.py\u001b[0m in \u001b[0;36m<module>\u001b[0;34m\u001b[0m\n\u001b[1;32m      3\u001b[0m \u001b[0mtest_untagged_words\u001b[0m \u001b[0;34m=\u001b[0m \u001b[0;34m[\u001b[0m\u001b[0mtup\u001b[0m\u001b[0;34m[\u001b[0m\u001b[0;36m0\u001b[0m\u001b[0;34m]\u001b[0m \u001b[0;32mfor\u001b[0m \u001b[0msent\u001b[0m \u001b[0;32min\u001b[0m \u001b[0mtest_set\u001b[0m \u001b[0;32mfor\u001b[0m \u001b[0mtup\u001b[0m \u001b[0;32min\u001b[0m \u001b[0msent\u001b[0m\u001b[0;34m]\u001b[0m\u001b[0;34m\u001b[0m\u001b[0;34m\u001b[0m\u001b[0m\n\u001b[1;32m      4\u001b[0m \u001b[0;34m\u001b[0m\u001b[0m\n\u001b[0;32m----> 5\u001b[0;31m \u001b[0mget_tag\u001b[0m \u001b[0;34m=\u001b[0m \u001b[0mViterbi\u001b[0m\u001b[0;34m(\u001b[0m\u001b[0mtest_untagged_words\u001b[0m\u001b[0;34m)\u001b[0m\u001b[0;34m\u001b[0m\u001b[0;34m\u001b[0m\u001b[0m\n\u001b[0m\u001b[1;32m      6\u001b[0m \u001b[0;34m\u001b[0m\u001b[0m\n\u001b[1;32m      7\u001b[0m \u001b[0;31m# accuracy\u001b[0m\u001b[0;34m\u001b[0m\u001b[0;34m\u001b[0m\u001b[0;34m\u001b[0m\u001b[0m\n",
      "\u001b[0;32m/var/folders/n9/n5041f191wnfkmgzsv4_xtqm0000gn/T/ipykernel_15106/2818607373.py\u001b[0m in \u001b[0;36mViterbi\u001b[0;34m(words)\u001b[0m\n\u001b[1;32m     19\u001b[0m                 \u001b[0memission_p\u001b[0m \u001b[0;34m=\u001b[0m \u001b[0mdp\u001b[0m\u001b[0;34m[\u001b[0m\u001b[0;34m(\u001b[0m\u001b[0mtag\u001b[0m\u001b[0;34m,\u001b[0m \u001b[0mword\u001b[0m\u001b[0;34m)\u001b[0m\u001b[0;34m]\u001b[0m\u001b[0;34m\u001b[0m\u001b[0;34m\u001b[0m\u001b[0m\n\u001b[1;32m     20\u001b[0m             \u001b[0;32melse\u001b[0m\u001b[0;34m:\u001b[0m\u001b[0;34m\u001b[0m\u001b[0;34m\u001b[0m\u001b[0m\n\u001b[0;32m---> 21\u001b[0;31m                 \u001b[0memission_p\u001b[0m \u001b[0;34m=\u001b[0m \u001b[0mcomputeEmission\u001b[0m\u001b[0;34m(\u001b[0m\u001b[0mwords\u001b[0m\u001b[0;34m[\u001b[0m\u001b[0mkey\u001b[0m\u001b[0;34m]\u001b[0m\u001b[0;34m,\u001b[0m \u001b[0mtag\u001b[0m\u001b[0;34m)\u001b[0m\u001b[0;34m\u001b[0m\u001b[0;34m\u001b[0m\u001b[0m\n\u001b[0m\u001b[1;32m     22\u001b[0m                 \u001b[0mdp\u001b[0m\u001b[0;34m[\u001b[0m\u001b[0;34m(\u001b[0m\u001b[0mtag\u001b[0m\u001b[0;34m,\u001b[0m \u001b[0mword\u001b[0m\u001b[0;34m)\u001b[0m\u001b[0;34m]\u001b[0m \u001b[0;34m=\u001b[0m \u001b[0memission_p\u001b[0m\u001b[0;34m\u001b[0m\u001b[0;34m\u001b[0m\u001b[0m\n\u001b[1;32m     23\u001b[0m \u001b[0;34m\u001b[0m\u001b[0m\n",
      "\u001b[0;32m/var/folders/n9/n5041f191wnfkmgzsv4_xtqm0000gn/T/ipykernel_15106/1478246825.py\u001b[0m in \u001b[0;36mcomputeEmission\u001b[0;34m(word, tag)\u001b[0m\n\u001b[1;32m     26\u001b[0m \u001b[0;32mdef\u001b[0m \u001b[0mcomputeEmission\u001b[0m\u001b[0;34m(\u001b[0m\u001b[0mword\u001b[0m\u001b[0;34m,\u001b[0m \u001b[0mtag\u001b[0m\u001b[0;34m)\u001b[0m\u001b[0;34m:\u001b[0m\u001b[0;34m\u001b[0m\u001b[0;34m\u001b[0m\u001b[0m\n\u001b[1;32m     27\u001b[0m     \u001b[0mdata\u001b[0m \u001b[0;34m=\u001b[0m \u001b[0mtrain_tag_corpus\u001b[0m\u001b[0;34m\u001b[0m\u001b[0;34m\u001b[0m\u001b[0m\n\u001b[0;32m---> 28\u001b[0;31m     \u001b[0mtag_list\u001b[0m \u001b[0;34m=\u001b[0m \u001b[0;34m[\u001b[0m\u001b[0mtg\u001b[0m \u001b[0;32mfor\u001b[0m \u001b[0mtg\u001b[0m \u001b[0;32min\u001b[0m \u001b[0mdata\u001b[0m \u001b[0;32mif\u001b[0m \u001b[0mtg\u001b[0m\u001b[0;34m[\u001b[0m\u001b[0;36m1\u001b[0m\u001b[0;34m]\u001b[0m\u001b[0;34m==\u001b[0m\u001b[0mtag\u001b[0m\u001b[0;34m]\u001b[0m\u001b[0;34m\u001b[0m\u001b[0;34m\u001b[0m\u001b[0m\n\u001b[0m\u001b[1;32m     29\u001b[0m     \u001b[0mcnt_tag\u001b[0m \u001b[0;34m=\u001b[0m \u001b[0mlen\u001b[0m\u001b[0;34m(\u001b[0m\u001b[0mtag_list\u001b[0m\u001b[0;34m)\u001b[0m\u001b[0;34m\u001b[0m\u001b[0;34m\u001b[0m\u001b[0m\n\u001b[1;32m     30\u001b[0m     \u001b[0mw_given_tag_list\u001b[0m \u001b[0;34m=\u001b[0m \u001b[0;34m[\u001b[0m\u001b[0mpair\u001b[0m\u001b[0;34m[\u001b[0m\u001b[0;36m0\u001b[0m\u001b[0;34m]\u001b[0m \u001b[0;32mfor\u001b[0m \u001b[0mpair\u001b[0m \u001b[0;32min\u001b[0m \u001b[0mtag_list\u001b[0m \u001b[0;32mif\u001b[0m \u001b[0mpair\u001b[0m\u001b[0;34m[\u001b[0m\u001b[0;36m0\u001b[0m\u001b[0;34m]\u001b[0m\u001b[0;34m==\u001b[0m\u001b[0mword\u001b[0m\u001b[0;34m]\u001b[0m\u001b[0;34m\u001b[0m\u001b[0;34m\u001b[0m\u001b[0m\n",
      "\u001b[0;32m/var/folders/n9/n5041f191wnfkmgzsv4_xtqm0000gn/T/ipykernel_15106/1478246825.py\u001b[0m in \u001b[0;36m<listcomp>\u001b[0;34m(.0)\u001b[0m\n\u001b[1;32m     26\u001b[0m \u001b[0;32mdef\u001b[0m \u001b[0mcomputeEmission\u001b[0m\u001b[0;34m(\u001b[0m\u001b[0mword\u001b[0m\u001b[0;34m,\u001b[0m \u001b[0mtag\u001b[0m\u001b[0;34m)\u001b[0m\u001b[0;34m:\u001b[0m\u001b[0;34m\u001b[0m\u001b[0;34m\u001b[0m\u001b[0m\n\u001b[1;32m     27\u001b[0m     \u001b[0mdata\u001b[0m \u001b[0;34m=\u001b[0m \u001b[0mtrain_tag_corpus\u001b[0m\u001b[0;34m\u001b[0m\u001b[0;34m\u001b[0m\u001b[0m\n\u001b[0;32m---> 28\u001b[0;31m     \u001b[0mtag_list\u001b[0m \u001b[0;34m=\u001b[0m \u001b[0;34m[\u001b[0m\u001b[0mtg\u001b[0m \u001b[0;32mfor\u001b[0m \u001b[0mtg\u001b[0m \u001b[0;32min\u001b[0m \u001b[0mdata\u001b[0m \u001b[0;32mif\u001b[0m \u001b[0mtg\u001b[0m\u001b[0;34m[\u001b[0m\u001b[0;36m1\u001b[0m\u001b[0;34m]\u001b[0m\u001b[0;34m==\u001b[0m\u001b[0mtag\u001b[0m\u001b[0;34m]\u001b[0m\u001b[0;34m\u001b[0m\u001b[0;34m\u001b[0m\u001b[0m\n\u001b[0m\u001b[1;32m     29\u001b[0m     \u001b[0mcnt_tag\u001b[0m \u001b[0;34m=\u001b[0m \u001b[0mlen\u001b[0m\u001b[0;34m(\u001b[0m\u001b[0mtag_list\u001b[0m\u001b[0;34m)\u001b[0m\u001b[0;34m\u001b[0m\u001b[0;34m\u001b[0m\u001b[0m\n\u001b[1;32m     30\u001b[0m     \u001b[0mw_given_tag_list\u001b[0m \u001b[0;34m=\u001b[0m \u001b[0;34m[\u001b[0m\u001b[0mpair\u001b[0m\u001b[0;34m[\u001b[0m\u001b[0;36m0\u001b[0m\u001b[0;34m]\u001b[0m \u001b[0;32mfor\u001b[0m \u001b[0mpair\u001b[0m \u001b[0;32min\u001b[0m \u001b[0mtag_list\u001b[0m \u001b[0;32mif\u001b[0m \u001b[0mpair\u001b[0m\u001b[0;34m[\u001b[0m\u001b[0;36m0\u001b[0m\u001b[0;34m]\u001b[0m\u001b[0;34m==\u001b[0m\u001b[0mword\u001b[0m\u001b[0;34m]\u001b[0m\u001b[0;34m\u001b[0m\u001b[0;34m\u001b[0m\u001b[0m\n",
      "\u001b[0;31mKeyboardInterrupt\u001b[0m: "
     ]
    }
   ],
   "source": [
    "#Testing the dev set\n",
    "test_tagged_words = [tup for sent in test_set for tup in sent]\n",
    "test_untagged_words = [tup[0] for sent in test_set for tup in sent]\n",
    "test_set_base = [tup for sent in test_set for tup in sent]\n",
    "\n",
    "get_tag = Viterbi(test_untagged_words)\n",
    "  \n",
    "# accuracy\n",
    "acc = [i for i, j in zip(get_tag, test_set_base) if i == j] \n",
    "accuracy = len(acc)/len(get_tag)\n",
    "print('Viterbi Accuracy: ',accuracy*100)"
   ]
  },
  {
   "cell_type": "code",
   "execution_count": 7,
   "id": "48ef6ac4",
   "metadata": {},
   "outputs": [],
   "source": [
    "'''\n",
    "Second Implementation: Using NLTK's hmm\n",
    "Takes less time and easier to impement\n",
    "'''\n",
    "\n",
    "# Creating HMM object\n",
    "HmmModel = nltk.HiddenMarkovModelTagger.train(train_set)"
   ]
  },
  {
   "cell_type": "code",
   "execution_count": 24,
   "id": "3cabd42d",
   "metadata": {},
   "outputs": [
    {
     "name": "stderr",
     "output_type": "stream",
     "text": [
      "/Users/aman/opt/anaconda3/lib/python3.8/site-packages/sklearn/metrics/_classification.py:1318: UndefinedMetricWarning: Precision and F-score are ill-defined and being set to 0.0 in labels with no predicted samples. Use `zero_division` parameter to control this behavior.\n",
      "  _warn_prf(average, modifier, msg_start, len(result))\n",
      "/Users/aman/opt/anaconda3/lib/python3.8/site-packages/sklearn/metrics/_classification.py:1318: UndefinedMetricWarning: Precision and F-score are ill-defined and being set to 0.0 in labels with no predicted samples. Use `zero_division` parameter to control this behavior.\n",
      "  _warn_prf(average, modifier, msg_start, len(result))\n"
     ]
    },
    {
     "name": "stdout",
     "output_type": "stream",
     "text": [
      "              precision    recall  f1-score   support\n",
      "\n",
      "           #       1.00      1.00      1.00         6\n",
      "           $       0.81      1.00      0.90       311\n",
      "          ''       0.77      1.00      0.87       297\n",
      "           (       0.97      0.97      0.97        39\n",
      "           )       0.64      0.92      0.76        39\n",
      "           ,       0.98      1.00      0.99      2127\n",
      "           .       0.95      1.00      0.97      1767\n",
      "           :       0.99      0.99      0.99       203\n",
      "          CC       0.97      1.00      0.99      1054\n",
      "          CD       0.95      0.91      0.93      1599\n",
      "          DT       0.95      0.99      0.97      3576\n",
      "          EX       1.00      0.89      0.94        46\n",
      "          FW       1.00      0.10      0.18        10\n",
      "          IN       0.97      0.99      0.98      4399\n",
      "          JJ       0.90      0.86      0.88      2549\n",
      "         JJR       0.86      0.93      0.89       169\n",
      "         JJS       0.98      0.87      0.92        75\n",
      "          MD       0.92      1.00      0.96       376\n",
      "          NN       0.92      0.91      0.92      5942\n",
      "         NNP       0.93      0.92      0.93      3846\n",
      "        NNPS       0.91      0.52      0.67        82\n",
      "         NNS       0.93      0.89      0.91      2670\n",
      "         PDT       1.00      0.86      0.92         7\n",
      "         POS       0.88      0.97      0.93       350\n",
      "         PRP       0.87      0.99      0.93       759\n",
      "        PRP$       0.82      0.99      0.90       351\n",
      "          RB       0.91      0.91      0.91      1309\n",
      "         RBR       0.96      0.75      0.84        64\n",
      "         RBS       1.00      0.97      0.99        38\n",
      "          RP       0.00      0.00      0.00        16\n",
      "         SYM       0.00      0.00      0.00         1\n",
      "          TO       0.98      1.00      0.99      1050\n",
      "          UH       1.00      0.50      0.67         2\n",
      "          VB       0.89      0.92      0.91      1201\n",
      "         VBD       0.93      0.89      0.91      1341\n",
      "         VBG       0.91      0.79      0.84       623\n",
      "         VBN       0.83      0.84      0.83       970\n",
      "         VBP       0.85      0.85      0.85       561\n",
      "         VBZ       0.93      0.90      0.91       935\n",
      "         WDT       0.80      0.93      0.86       182\n",
      "          WP       1.00      1.00      1.00        85\n",
      "         WP$       1.00      1.00      1.00         5\n",
      "         WRB       0.94      0.98      0.96        98\n",
      "          ``       0.00      0.00      0.00       309\n",
      "\n",
      "    accuracy                           0.93     41439\n",
      "   macro avg       0.86      0.83      0.83     41439\n",
      "weighted avg       0.92      0.93      0.92     41439\n",
      "\n"
     ]
    },
    {
     "name": "stderr",
     "output_type": "stream",
     "text": [
      "/Users/aman/opt/anaconda3/lib/python3.8/site-packages/sklearn/metrics/_classification.py:1318: UndefinedMetricWarning: Precision and F-score are ill-defined and being set to 0.0 in labels with no predicted samples. Use `zero_division` parameter to control this behavior.\n",
      "  _warn_prf(average, modifier, msg_start, len(result))\n"
     ]
    }
   ],
   "source": [
    "# Testing the dev data\n",
    "true_pos_tags = [tag for sentences in test_set for word, tag in sentences]\n",
    "\n",
    "predicted_pos_tags=[]\n",
    "for sentences in test_set:\n",
    "    predicted_pos_tags += [tag for _, tag in HmmModel.tag([word for word, _ in sentences])]\n",
    "    \n",
    "i = 0\n",
    "for sentence in test_set:\n",
    "    for word, _ in sentence:\n",
    "        if predicted_pos_tags[i] == '``':\n",
    "            predicted_pos_tags[i] = unseen_word_tagger.tag([word])[0][1]\n",
    "        i += 1\n",
    "    \n",
    "#Accuracy\n",
    "print (classification_report(true_pos_tags, predicted_pos_tags))"
   ]
  },
  {
   "cell_type": "code",
   "execution_count": null,
   "id": "624bf7a9",
   "metadata": {},
   "outputs": [],
   "source": []
  },
  {
   "cell_type": "code",
   "execution_count": 42,
   "id": "5ee184c4",
   "metadata": {},
   "outputs": [],
   "source": [
    "'''\n",
    "Now predicting the Test Data\n",
    "'''\n",
    "f_test_data = open(\"test_data.txt\", \"r\")\n",
    "test_corpus = []\n",
    "\n",
    "for line in f_test_data:\n",
    "    line = line.strip()\n",
    "    if line == \"\":\n",
    "        continue\n",
    "    else:\n",
    "        test_corpus.append(line)\n",
    "f_test_data.close()"
   ]
  },
  {
   "cell_type": "code",
   "execution_count": 43,
   "id": "c4963899",
   "metadata": {},
   "outputs": [],
   "source": [
    "predicted_pos_tags=[]\n",
    "for word in test_corpus:\n",
    "    predicted_pos_tags += [tag for _, tag in HmmModel.tag([word])]"
   ]
  },
  {
   "cell_type": "code",
   "execution_count": 44,
   "id": "2fa635eb",
   "metadata": {},
   "outputs": [
    {
     "data": {
      "text/plain": [
       "['``', 'NNP', 'NNP', 'VBZ', '``', 'NN', 'VBD', 'PRP', 'VBN', 'DT']"
      ]
     },
     "execution_count": 44,
     "metadata": {},
     "output_type": "execute_result"
    }
   ],
   "source": [
    "predicted_pos_tags[:10]"
   ]
  },
  {
   "cell_type": "code",
   "execution_count": 45,
   "id": "e37767f3",
   "metadata": {},
   "outputs": [],
   "source": [
    "k = 0\n",
    "for word in test_corpus:\n",
    "    if predicted_pos_tags[k] == '``':\n",
    "        predicted_pos_tags[k] = unseen_word_tagger.tag([word])[0][1]\n",
    "    k += 1\n",
    "    "
   ]
  },
  {
   "cell_type": "code",
   "execution_count": 18,
   "id": "0e8e059e",
   "metadata": {},
   "outputs": [],
   "source": [
    "f_read = open(\"test_data_tagged.txt\", \"r\")\n",
    "data = []\n",
    "for line in f_read:\n",
    "    line = line.strip()\n",
    "    data.append(line)\n",
    "f_read.close()"
   ]
  },
  {
   "cell_type": "code",
   "execution_count": 19,
   "id": "9525d0eb",
   "metadata": {},
   "outputs": [],
   "source": [
    "f_write = open(\"test_data_tagged.txt\", \"w\")\n",
    "j = 0\n",
    "for line in data:\n",
    "    if line == '':\n",
    "        f_write.writelines(line + '\\n')\n",
    "        continue\n",
    "    else:\n",
    "        f_write.writelines(line + \" \" + predicted_pos_tags[j] + '\\n')\n",
    "    j += 1\n",
    "f_write.close()"
   ]
  },
  {
   "cell_type": "code",
   "execution_count": null,
   "id": "39d23932",
   "metadata": {},
   "outputs": [],
   "source": []
  },
  {
   "cell_type": "code",
   "execution_count": 36,
   "id": "f937dcaf",
   "metadata": {},
   "outputs": [],
   "source": [
    "ff = open(\"test.txt\", \"r\")\n",
    "sent_corpus = []\n",
    "sent = []\n",
    "true_tags = []\n",
    "\n",
    "for line in ff:\n",
    "    line = line.strip()\n",
    "    if line == \"\":\n",
    "        sent_corpus.append(sent)\n",
    "        sent = []\n",
    "    else:\n",
    "        word, pos_tag, _ = line.split(\" \")\n",
    "        #ignoring the chunk tag for this task\n",
    "        sent.append((word, pos_tag))\n",
    "        true_tags.append(pos_tag)\n",
    "ff.close()\n",
    "\n",
    "# Add the last sentence (if any)\n",
    "if sent:\n",
    "    sent_corpus.append(sent)"
   ]
  },
  {
   "cell_type": "code",
   "execution_count": 50,
   "id": "b14400e6",
   "metadata": {},
   "outputs": [
    {
     "name": "stderr",
     "output_type": "stream",
     "text": [
      "/Users/aman/opt/anaconda3/lib/python3.8/site-packages/sklearn/metrics/_classification.py:1318: UndefinedMetricWarning: Precision and F-score are ill-defined and being set to 0.0 in labels with no predicted samples. Use `zero_division` parameter to control this behavior.\n",
      "  _warn_prf(average, modifier, msg_start, len(result))\n",
      "/Users/aman/opt/anaconda3/lib/python3.8/site-packages/sklearn/metrics/_classification.py:1318: UndefinedMetricWarning: Precision and F-score are ill-defined and being set to 0.0 in labels with no predicted samples. Use `zero_division` parameter to control this behavior.\n",
      "  _warn_prf(average, modifier, msg_start, len(result))\n"
     ]
    },
    {
     "name": "stdout",
     "output_type": "stream",
     "text": [
      "              precision    recall  f1-score   support\n",
      "\n",
      "           #       1.00      1.00      1.00        11\n",
      "           $       1.00      0.99      1.00       384\n",
      "          ''       0.91      1.00      0.95       316\n",
      "           (       1.00      1.00      1.00        77\n",
      "           )       0.00      0.00      0.00        77\n",
      "           ,       1.00      1.00      1.00      2390\n",
      "           .       1.00      0.99      0.99      1975\n",
      "           :       1.00      1.00      1.00       238\n",
      "          CC       1.00      1.00      1.00      1214\n",
      "          CD       1.00      0.77      0.87      1918\n",
      "          DT       1.00      0.99      0.99      4020\n",
      "          EX       0.96      1.00      0.98        48\n",
      "          FW       0.00      0.00      0.00         4\n",
      "          IN       0.96      1.00      0.98      5071\n",
      "          JJ       0.95      0.79      0.86      2964\n",
      "         JJR       0.93      0.55      0.70       202\n",
      "         JJS       1.00      0.92      0.96        77\n",
      "          MD       1.00      0.99      0.99       470\n",
      "          NN       0.76      0.95      0.84      6642\n",
      "         NNP       0.91      0.98      0.95      4806\n",
      "        NNPS       0.00      0.00      0.00       130\n",
      "         NNS       0.92      0.93      0.93      3034\n",
      "         PDT       0.00      0.00      0.00        10\n",
      "         POS       0.00      0.00      0.00       434\n",
      "         PRP       1.00      1.00      1.00       814\n",
      "        PRP$       1.00      1.00      1.00       421\n",
      "          RB       0.93      0.88      0.90      1354\n",
      "         RBR       0.49      0.87      0.63        71\n",
      "         RBS       0.00      0.00      0.00        49\n",
      "          RP       0.00      0.00      0.00        12\n",
      "          TO       1.00      1.00      1.00      1178\n",
      "          UH       1.00      0.50      0.67         2\n",
      "          VB       0.70      0.56      0.62      1269\n",
      "         VBD       0.75      0.72      0.73      1679\n",
      "         VBG       0.85      0.97      0.90       728\n",
      "         VBN       0.64      0.68      0.66      1104\n",
      "         VBP       1.00      0.31      0.47       539\n",
      "         VBZ       0.57      0.80      0.67       913\n",
      "         WDT       1.00      0.52      0.69       202\n",
      "          WP       1.00      1.00      1.00       110\n",
      "         WP$       1.00      1.00      1.00         4\n",
      "         WRB       1.00      0.99      0.99        93\n",
      "          ``       0.00      0.00      0.00       323\n",
      "\n",
      "    accuracy                           0.89     47377\n",
      "   macro avg       0.75      0.71      0.72     47377\n",
      "weighted avg       0.88      0.89      0.88     47377\n",
      "\n"
     ]
    },
    {
     "name": "stderr",
     "output_type": "stream",
     "text": [
      "/Users/aman/opt/anaconda3/lib/python3.8/site-packages/sklearn/metrics/_classification.py:1318: UndefinedMetricWarning: Precision and F-score are ill-defined and being set to 0.0 in labels with no predicted samples. Use `zero_division` parameter to control this behavior.\n",
      "  _warn_prf(average, modifier, msg_start, len(result))\n"
     ]
    }
   ],
   "source": [
    "print (classification_report(true_tags, predicted_pos_tags))"
   ]
  },
  {
   "cell_type": "code",
   "execution_count": null,
   "id": "292eeec0",
   "metadata": {},
   "outputs": [],
   "source": [
    "'''\n",
    "Testing Vertebi\n",
    "'''\n",
    "get_tag = Viterbi(test_corpus)"
   ]
  },
  {
   "cell_type": "code",
   "execution_count": null,
   "id": "1ad4d132",
   "metadata": {},
   "outputs": [],
   "source": []
  }
 ],
 "metadata": {
  "kernelspec": {
   "display_name": "Python 3 (ipykernel)",
   "language": "python",
   "name": "python3"
  },
  "language_info": {
   "codemirror_mode": {
    "name": "ipython",
    "version": 3
   },
   "file_extension": ".py",
   "mimetype": "text/x-python",
   "name": "python",
   "nbconvert_exporter": "python",
   "pygments_lexer": "ipython3",
   "version": "3.8.13"
  }
 },
 "nbformat": 4,
 "nbformat_minor": 5
}
