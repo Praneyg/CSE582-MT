{
  "cells": [
    {
      "cell_type": "code",
      "execution_count": 1,
      "id": "c3123672",
      "metadata": {
        "id": "c3123672"
      },
      "outputs": [],
      "source": [
        "#importing required libraries\n",
        "from sklearn.model_selection import train_test_split\n",
        "from sklearn.feature_extraction import DictVectorizer\n",
        "from sklearn.linear_model import LogisticRegression\n",
        "from sklearn.metrics import accuracy_score"
      ]
    },
    {
      "cell_type": "code",
      "execution_count": 3,
      "id": "c6385387",
      "metadata": {
        "id": "c6385387"
      },
      "outputs": [],
      "source": [
        "#reading the training dataset\n",
        "f = open(\"train.txt\", \"r\")\n",
        "sentence_train = []\n",
        "sentence = []\n",
        "\n",
        "# iterating throught the datset and storing it in sentence_train variable\n",
        "for line in f:\n",
        "    line = line.strip()\n",
        "    if line == \"\":\n",
        "        sentence_train.append(sentence)\n",
        "        sentence = []\n",
        "    else:\n",
        "        word, pos_tag, _ = line.split(\" \")\n",
        "        sentence.append((word, pos_tag))\n",
        "        \n",
        "f.close()\n",
        "\n",
        "# Add the last sentence in the dataset\n",
        "if sentence:\n",
        "    sentence_train.append(sentence)"
      ]
    },
    {
      "cell_type": "code",
      "execution_count": 4,
      "id": "e438043d",
      "metadata": {
        "id": "e438043d"
      },
      "outputs": [],
      "source": [
        "#Splitting the data into train_data and test_data \n",
        "train_set,test_set =train_test_split(sentence_train,train_size=0.80,test_size=0.20,random_state = 101)\n"
      ]
    },
    {
      "cell_type": "code",
      "execution_count": 5,
      "id": "8f112665",
      "metadata": {
        "id": "8f112665"
      },
      "outputs": [],
      "source": [
        "#defining all the pos features required \n",
        "def pos_features(sentence, i):\n",
        "    features = {\n",
        "        'word': sentence[i],\n",
        "        'is_first': i == 0,\n",
        "        'is_last': i == len(sentence) - 1,\n",
        "        'is_all_caps': sentence[i].upper() == sentence[i],\n",
        "        'is_all_lower': sentence[i].lower() == sentence[i],\n",
        "        'prev_word': '' if i == 0 else sentence[i-1],\n",
        "        'next_word': '' if i == len(sentence)-1 else sentence[i+1],\n",
        "    }\n",
        "    return features"
      ]
    },
    {
      "cell_type": "code",
      "execution_count": 6,
      "id": "c955aab7",
      "metadata": {
        "id": "c955aab7"
      },
      "outputs": [],
      "source": [
        "# Extract features from the data\n",
        "def extract_features(sentences):\n",
        "    features = []\n",
        "    for sentence in sentences:\n",
        "        words = [word for word, tag in sentence]\n",
        "        for i in range(len(words)):\n",
        "            features.append(pos_features(words, i))\n",
        "    return features\n",
        "\n",
        "train_features = extract_features(train_set)\n",
        "test_features = extract_features(test_set)"
      ]
    },
    {
      "cell_type": "code",
      "execution_count": 7,
      "id": "915a24c0",
      "metadata": {
        "id": "915a24c0"
      },
      "outputs": [],
      "source": [
        "# vectorizing the feature for training set\n",
        "vectorizer = DictVectorizer()\n",
        "X_train = vectorizer.fit_transform(train_features)\n",
        "X_test = vectorizer.transform(test_features)"
      ]
    },
    {
      "cell_type": "code",
      "execution_count": 8,
      "id": "01eb874b",
      "metadata": {
        "id": "01eb874b"
      },
      "outputs": [],
      "source": [
        "# Generating labels for dataset\n",
        "y_train = []\n",
        "for sentence in train_set:\n",
        "    for word, tag in sentence:\n",
        "        y_train.append(tag)\n",
        "        \n",
        "y_test = []\n",
        "for sentence in test_set:\n",
        "    for word, tag in sentence:\n",
        "        y_test.append(tag)"
      ]
    },
    {
      "cell_type": "code",
      "execution_count": 9,
      "id": "0dc8c955",
      "metadata": {
        "colab": {
          "base_uri": "https://localhost:8080/",
          "height": 75
        },
        "id": "0dc8c955",
        "outputId": "c6334865-7d2c-468d-d0e2-66d9d8f7effc"
      },
      "outputs": [
        {
          "output_type": "execute_result",
          "data": {
            "text/plain": [
              "LogisticRegression(max_iter=500)"
            ],
            "text/html": [
              "<style>#sk-container-id-1 {color: black;background-color: white;}#sk-container-id-1 pre{padding: 0;}#sk-container-id-1 div.sk-toggleable {background-color: white;}#sk-container-id-1 label.sk-toggleable__label {cursor: pointer;display: block;width: 100%;margin-bottom: 0;padding: 0.3em;box-sizing: border-box;text-align: center;}#sk-container-id-1 label.sk-toggleable__label-arrow:before {content: \"▸\";float: left;margin-right: 0.25em;color: #696969;}#sk-container-id-1 label.sk-toggleable__label-arrow:hover:before {color: black;}#sk-container-id-1 div.sk-estimator:hover label.sk-toggleable__label-arrow:before {color: black;}#sk-container-id-1 div.sk-toggleable__content {max-height: 0;max-width: 0;overflow: hidden;text-align: left;background-color: #f0f8ff;}#sk-container-id-1 div.sk-toggleable__content pre {margin: 0.2em;color: black;border-radius: 0.25em;background-color: #f0f8ff;}#sk-container-id-1 input.sk-toggleable__control:checked~div.sk-toggleable__content {max-height: 200px;max-width: 100%;overflow: auto;}#sk-container-id-1 input.sk-toggleable__control:checked~label.sk-toggleable__label-arrow:before {content: \"▾\";}#sk-container-id-1 div.sk-estimator input.sk-toggleable__control:checked~label.sk-toggleable__label {background-color: #d4ebff;}#sk-container-id-1 div.sk-label input.sk-toggleable__control:checked~label.sk-toggleable__label {background-color: #d4ebff;}#sk-container-id-1 input.sk-hidden--visually {border: 0;clip: rect(1px 1px 1px 1px);clip: rect(1px, 1px, 1px, 1px);height: 1px;margin: -1px;overflow: hidden;padding: 0;position: absolute;width: 1px;}#sk-container-id-1 div.sk-estimator {font-family: monospace;background-color: #f0f8ff;border: 1px dotted black;border-radius: 0.25em;box-sizing: border-box;margin-bottom: 0.5em;}#sk-container-id-1 div.sk-estimator:hover {background-color: #d4ebff;}#sk-container-id-1 div.sk-parallel-item::after {content: \"\";width: 100%;border-bottom: 1px solid gray;flex-grow: 1;}#sk-container-id-1 div.sk-label:hover label.sk-toggleable__label {background-color: #d4ebff;}#sk-container-id-1 div.sk-serial::before {content: \"\";position: absolute;border-left: 1px solid gray;box-sizing: border-box;top: 0;bottom: 0;left: 50%;z-index: 0;}#sk-container-id-1 div.sk-serial {display: flex;flex-direction: column;align-items: center;background-color: white;padding-right: 0.2em;padding-left: 0.2em;position: relative;}#sk-container-id-1 div.sk-item {position: relative;z-index: 1;}#sk-container-id-1 div.sk-parallel {display: flex;align-items: stretch;justify-content: center;background-color: white;position: relative;}#sk-container-id-1 div.sk-item::before, #sk-container-id-1 div.sk-parallel-item::before {content: \"\";position: absolute;border-left: 1px solid gray;box-sizing: border-box;top: 0;bottom: 0;left: 50%;z-index: -1;}#sk-container-id-1 div.sk-parallel-item {display: flex;flex-direction: column;z-index: 1;position: relative;background-color: white;}#sk-container-id-1 div.sk-parallel-item:first-child::after {align-self: flex-end;width: 50%;}#sk-container-id-1 div.sk-parallel-item:last-child::after {align-self: flex-start;width: 50%;}#sk-container-id-1 div.sk-parallel-item:only-child::after {width: 0;}#sk-container-id-1 div.sk-dashed-wrapped {border: 1px dashed gray;margin: 0 0.4em 0.5em 0.4em;box-sizing: border-box;padding-bottom: 0.4em;background-color: white;}#sk-container-id-1 div.sk-label label {font-family: monospace;font-weight: bold;display: inline-block;line-height: 1.2em;}#sk-container-id-1 div.sk-label-container {text-align: center;}#sk-container-id-1 div.sk-container {/* jupyter's `normalize.less` sets `[hidden] { display: none; }` but bootstrap.min.css set `[hidden] { display: none !important; }` so we also need the `!important` here to be able to override the default hidden behavior on the sphinx rendered scikit-learn.org. See: https://github.com/scikit-learn/scikit-learn/issues/21755 */display: inline-block !important;position: relative;}#sk-container-id-1 div.sk-text-repr-fallback {display: none;}</style><div id=\"sk-container-id-1\" class=\"sk-top-container\"><div class=\"sk-text-repr-fallback\"><pre>LogisticRegression(max_iter=500)</pre><b>In a Jupyter environment, please rerun this cell to show the HTML representation or trust the notebook. <br />On GitHub, the HTML representation is unable to render, please try loading this page with nbviewer.org.</b></div><div class=\"sk-container\" hidden><div class=\"sk-item\"><div class=\"sk-estimator sk-toggleable\"><input class=\"sk-toggleable__control sk-hidden--visually\" id=\"sk-estimator-id-1\" type=\"checkbox\" checked><label for=\"sk-estimator-id-1\" class=\"sk-toggleable__label sk-toggleable__label-arrow\">LogisticRegression</label><div class=\"sk-toggleable__content\"><pre>LogisticRegression(max_iter=500)</pre></div></div></div></div></div>"
            ]
          },
          "metadata": {},
          "execution_count": 9
        }
      ],
      "source": [
        "# fitting the logistic regression model on training set\n",
        "clf = LogisticRegression(max_iter=500)\n",
        "clf.fit(X_train, y_train)"
      ]
    },
    {
      "cell_type": "code",
      "execution_count": 10,
      "id": "b3a75413",
      "metadata": {
        "id": "b3a75413"
      },
      "outputs": [],
      "source": [
        "# predicting the labels for test dataset\n",
        "y_pred = clf.predict(X_test)"
      ]
    },
    {
      "cell_type": "code",
      "execution_count": 11,
      "id": "bf7ee976",
      "metadata": {
        "colab": {
          "base_uri": "https://localhost:8080/"
        },
        "id": "bf7ee976",
        "outputId": "9eea78c3-e0d9-40e0-fd4a-b11e3d946bdd"
      },
      "outputs": [
        {
          "output_type": "stream",
          "name": "stdout",
          "text": [
            "Accuracy: 0.9470305750621395\n"
          ]
        }
      ],
      "source": [
        "# calculating the accuracy of the predictions \n",
        "print('Accuracy:', accuracy_score(y_test, y_pred))"
      ]
    },
    {
      "cell_type": "code",
      "source": [
        "# reading the test dataset\n",
        "f = open(\"test_data.txt\", \"r\")\n",
        "test_words = []\n",
        "\n",
        "# iterating through the dataset and storing words in test_words variable\n",
        "for line in f:\n",
        "    line = line.strip()\n",
        "    if line == \"\":\n",
        "        continue\n",
        "    else:\n",
        "        word = line.split(\" \")[0]\n",
        "        test_words.append(word)\n",
        "\n",
        "f.close()\n",
        "\n",
        "# extracting features from the test words\n",
        "test_features = []\n",
        "for i in range(len(test_words)):\n",
        "    test_features.append(pos_features(test_words, i))\n",
        "\n",
        "# vectorizing the features for the test data\n",
        "X_test = vectorizer.transform(test_features)\n",
        "\n",
        "# predicting the POS tags for test data\n",
        "y_pred = clf.predict(X_test)\n",
        "\n",
        "y_pred = y_pred.tolist()\n",
        "\n",
        "# replacing the ground truth POS tags with predicted tags in test.txt file\n",
        "with open('test_data.txt', 'r') as f:\n",
        "    data = f.read()\n",
        "data = data.split('\\n\\n')\n",
        "output = ''\n",
        "\n",
        "for i in range(len(data)):\n",
        "    sentences = data[i].split('\\n')\n",
        "    for j in range(len(sentences)):\n",
        "        if sentences[j] != '':\n",
        "            word = sentences[j].split(' ')[0]\n",
        "            output += word + ' ' + y_pred.pop(0) + '\\n'\n",
        "    output += '\\n'\n",
        "\n",
        "with open('test_predicted.txt', 'w') as f:\n",
        "    f.write(output)\n"
      ],
      "metadata": {
        "id": "vy41_8nPhN7Y"
      },
      "id": "vy41_8nPhN7Y",
      "execution_count": 16,
      "outputs": []
    }
  ],
  "metadata": {
    "kernelspec": {
      "display_name": "Python 3 (ipykernel)",
      "language": "python",
      "name": "python3"
    },
    "language_info": {
      "codemirror_mode": {
        "name": "ipython",
        "version": 3
      },
      "file_extension": ".py",
      "mimetype": "text/x-python",
      "name": "python",
      "nbconvert_exporter": "python",
      "pygments_lexer": "ipython3",
      "version": "3.9.6"
    },
    "colab": {
      "provenance": [],
      "machine_shape": "hm"
    },
    "gpuClass": "standard"
  },
  "nbformat": 4,
  "nbformat_minor": 5
}